{
 "cells": [
  {
   "attachments": {},
   "cell_type": "markdown",
   "metadata": {},
   "source": [
    "The article discusses the challenges in developing and deploying ML-enabled systems, and it introduces the concept of Software Engineering for Machine Learning (SE4ML) to address these challenges.\n",
    "\n",
    "The main focus is on understanding and characterizing different types of mismatches that occur in ML-enabled systems, which can lead to system failures and reduced performance. The authors conducted a study in two phases to identify and categorize these mismatches, and they aim to create machine-readable descriptors to support automated detection and prevention of such mismatches.\n",
    "\n",
    "The identified categories of mismatches are as follows:\n",
    "\n",
    "**- Trained Model Mismatch:**\n",
    "\n",
    "     Mismatches related to the model passed from data scientists to software engineers for integration. For example, lack of specification for the model's API and test cases, leading to integration difficulties.\n",
    "\n",
    "**- Operational Environment Mismatch:**\n",
    "\n",
    "    Mismatches concerning the computing environment where the trained model executes (production environment). For instance, not monitoring relevant runtime metrics and data, causing operational issues.\n",
    "\n",
    "**- Task and Purpose Mismatch:**\n",
    "\n",
    "    Mismatches in expectations and constraints for the model. This can result from unclear business goals provided to data scientists, leading to inefficiencies in model development.\n",
    "\n",
    "**- Raw Data Mismatch:**\n",
    "\n",
    "    Mismatches in the dataset used to train the model. This can occur due to missing metadata or descriptions, making it challenging for data scientists to understand and process the data correctly.\n",
    "\n",
    "\n",
    "**- Development Environment Mismatch:**\n",
    "\n",
    "    Mismatches related to the programming languages used in model development and system integration. If not shared from the beginning, porting models between different languages can lead to errors.\n",
    "\n",
    "**- Operational Data Mismatch:**\n",
    "\n",
    "    Mismatches between the data used to train the model and the data encountered in the operational environment. Lack of representation of the operational data in the training set can affect model performance.\n",
    "\n",
    "**- Training Data Mismatch:**\n",
    "\n",
    "    Mismatches arising from inadequate details of data preparation pipelines to derive training data. A lack of separation between data pipelines and model components can restrict exploring alternative data preparation approaches."
   ]
  },
  {
   "attachments": {},
   "cell_type": "markdown",
   "metadata": {},
   "source": [
    "--------"
   ]
  },
  {
   "attachments": {},
   "cell_type": "markdown",
   "metadata": {},
   "source": [
    "### 'Tackling Collaboration Challenges in the Development of ML-Enabled Systems' "
   ]
  },
  {
   "attachments": {},
   "cell_type": "markdown",
   "metadata": {},
   "source": [
    "In this article, the author discusses the challenges faced in collaboration between data scientists and software engineers in the development of machine learning (ML)-enabled systems.\n",
    "\n",
    "The author presents the findings of a study conducted by a team of researchers, which aimed to identify common collaboration challenges in ML-enabled system development. The study involved interviews with professionals involved in the development of ML-enabled systems and was supplemented by a literature review.\n",
    "\n",
    "The study identified three main collaboration points in ML-enabled system development:\n",
    "\n",
    "### requirements and planning, training data, and product-model integration.\n",
    "\n",
    "The authors found that collaboration challenges arise due to differences in the order in which product and model requirements are identified, disagreements over training data, and conflicts between software engineering and data science cultures.\n",
    "\n",
    "For each collaboration point, the authors provide recommendations based on their findings and the insights gained from the interviews and literature review.\n",
    "\n",
    "The recommendations include involving data scientists early in the process, adopting a parallel development trajectory for product and model teams, conducting ML training sessions to educate clients and product teams, adopting more formal requirements documentation, budgeting for data collection and access to domain experts, specifying data quality and quantity expectations in contracts, employing data validation and monitoring infrastructure, defining processes and responsibilities more carefully, documenting APIs at collaboration points, recruiting dedicated engineering support for model deployment, not siloing data scientists, establishing common terminology, prioritizing and planning for quality assurance testing, and engaging the model team in creating a monitoring and experimentation infrastructure.\n",
    "\n",
    "The blog post concludes by emphasizing the importance of interdisciplinary collaboration in ML-enabled system development and the need for organizations to address the challenges and improve collaboration practices in this context. By following the recommendations provided, organizations can enhance collaboration between data scientists and software engineers and improve the development of ML-enabled systems."
   ]
  }
 ],
 "metadata": {
  "language_info": {
   "name": "python"
  },
  "orig_nbformat": 4
 },
 "nbformat": 4,
 "nbformat_minor": 2
}
