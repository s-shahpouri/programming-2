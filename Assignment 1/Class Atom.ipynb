{
 "cells": [
  {
   "cell_type": "code",
   "execution_count": 97,
   "metadata": {},
   "outputs": [
    {
     "name": "stdout",
     "output_type": "stream",
     "text": [
      "Cannot compare two different atoms!\n"
     ]
    }
   ],
   "source": [
    "class Atom:\n",
    "    def __init__(self, symbol, atomic_number, neutrons):\n",
    "        self.symbol = symbol\n",
    "        self.atomic_number = atomic_number\n",
    "        self.neutrons = neutrons\n",
    "\n",
    "\n",
    "    def proton_number(self):\n",
    "        return self.atomic_number\n",
    "    \n",
    "    def mass_number(self):\n",
    "        return self.neutrons + self.atomic_number\n",
    "    \n",
    "    def isotope(self, value):\n",
    "        self.neutrons = value\n",
    "\n",
    "    def __eq__(self, otheratom):\n",
    "        if otheratom.symbol == self.symbol:\n",
    "            if otheratom.proton_number() == self.proton_number():\n",
    "                if otheratom.neutrons == self.neutrons:\n",
    "                    return ('these atoms are exactly the same :)')\n",
    "                else:\n",
    "                    return('these atoms are isotopes! :)')\n",
    "        else:\n",
    "            return False\n",
    "\n",
    "        \n",
    "H = Atom('Hyjhdrogen', 1, 1)\n",
    "HH = Atom('Hydrogen', 1, 2)\n",
    "H==HH\n",
    "\n",
    "if (H==HH):\n",
    "    print('these atoms are exactly the same :)')\n",
    "else:\n",
    "    print('Cannot compare two different atoms!')"
   ]
  },
  {
   "cell_type": "code",
   "execution_count": 94,
   "metadata": {},
   "outputs": [
    {
     "name": "stdout",
     "output_type": "stream",
     "text": [
      "these atoms are exactly the same :)\n"
     ]
    }
   ],
   "source": [
    "H = Atom('gfhjkjn', 1, 1)\n",
    "HH = Atom('Hydrogen', 1, 2)\n",
    "# protium = Atom('H', 1, 1)\n",
    "# deuterium = Atom('H', 1, 2)\n",
    "# oxygen = Atom('O', 8, 8)\n",
    "# tritium = Atom('H', 1, 2)\n",
    "\n",
    "#protium == deuterium\n",
    "\n",
    "if (H==HH):\n",
    "    print('these atoms are exactly the same :)')\n"
   ]
  },
  {
   "cell_type": "code",
   "execution_count": 103,
   "metadata": {},
   "outputs": [],
   "source": [
    "class Atom:\n",
    "    def __init__(self, symbol, atomic_number, neutron_number):\n",
    "        self.symbol = symbol\n",
    "        self.atomic_number = atomic_number\n",
    "        self.neutron_number = neutron_number\n",
    "\n",
    "    def proton_number(self):\n",
    "        return self.atomic_number\n",
    "\n",
    "    def mass_number(self):\n",
    "        return self.atomic_number + self.neutron_number\n",
    "\n",
    "    def isotope(self, value):\n",
    "        self.neutron_number = value\n",
    "\n",
    "\n",
    "\n",
    "    def __eq__(self, other):\n",
    "        if not self.symbol == other.symbol:\n",
    "            raise TypeError(\"Cannot compare two different atoms!\")\n",
    "        return (self.atomic_number == other.atomic_number\n",
    "                and self.neutron_number == other.neutron_number)\n",
    "\n",
    "    def __lt__(self, other):\n",
    "        if not self.symbol == other.symbol:\n",
    "            raise TypeError(\"Cannot compare two different atoms!\")\n",
    "        if self.atomic_number != other.atomic_number:\n",
    "            raise ValueError(\"Can only compare isotopes of the same element.\")\n",
    "        return self.mass_number() < other.mass_number()\n",
    "\n",
    "    def __le__(self, other):\n",
    "        ''' __le__ returns the result of __lt__ or __eq__,\n",
    "        which means \"less than or equal to\".'''\n",
    "        return self.__lt__(other) or self.__eq__(other)\n",
    "\n",
    "    def __gt__(self, other):\n",
    "        \n",
    "        return not (self.__lt__(other) or self.__eq__(other))\n",
    "\n",
    "    def __ge__(self, other):\n",
    "        ''' __ge__ returns the negation of __lt__,\n",
    "         which means \"not less than\"'''\n",
    "        return not self.__lt__(other)\n",
    "    \n",
    " \n",
    "\n",
    "\n",
    "\n",
    "# H = Atom('rh', 1, 1)\n",
    "# HH = Atom('rhdcd', 1, 21)\n",
    "# if (H==HH):\n",
    "#     print('these atoms have exact A & Z numbers :)')\n",
    "# elif (H<HH):\n",
    "#     print(\"these atoms are isotopes :D\")"
   ]
  },
  {
   "cell_type": "code",
   "execution_count": 107,
   "metadata": {},
   "outputs": [
    {
     "ename": "TypeError",
     "evalue": "Cannot compare two different atoms!",
     "output_type": "error",
     "traceback": [
      "\u001b[1;31m---------------------------------------------------------------------------\u001b[0m",
      "\u001b[1;31mTypeError\u001b[0m                                 Traceback (most recent call last)",
      "\u001b[1;32mc:\\zshahpouri\\programming 2\\Class Atom.ipynb Cell 4\u001b[0m in \u001b[0;36m1\n\u001b[0;32m     <a href='vscode-notebook-cell:/c%3A/zshahpouri/programming%202/Class%20Atom.ipynb#W4sZmlsZQ%3D%3D?line=10'>11</a>\u001b[0m \u001b[39massert\u001b[39;00m deuterium \u001b[39m<\u001b[39mtritium\n\u001b[0;32m     <a href='vscode-notebook-cell:/c%3A/zshahpouri/programming%202/Class%20Atom.ipynb#W4sZmlsZQ%3D%3D?line=11'>12</a>\u001b[0m \u001b[39massert\u001b[39;00m tritium \u001b[39m>\u001b[39m protium\n\u001b[1;32m---> <a href='vscode-notebook-cell:/c%3A/zshahpouri/programming%202/Class%20Atom.ipynb#W4sZmlsZQ%3D%3D?line=12'>13</a>\u001b[0m \u001b[39mprint\u001b[39m (oxygen \u001b[39m>\u001b[39;49m tritium) \u001b[39m# <-- this should raise an Exception\u001b[39;00m\n",
      "\u001b[1;32mc:\\zshahpouri\\programming 2\\Class Atom.ipynb Cell 4\u001b[0m in \u001b[0;36m3\n\u001b[0;32m     <a href='vscode-notebook-cell:/c%3A/zshahpouri/programming%202/Class%20Atom.ipynb#W4sZmlsZQ%3D%3D?line=35'>36</a>\u001b[0m \u001b[39mdef\u001b[39;00m \u001b[39m__gt__\u001b[39m(\u001b[39mself\u001b[39m, other):\n\u001b[1;32m---> <a href='vscode-notebook-cell:/c%3A/zshahpouri/programming%202/Class%20Atom.ipynb#W4sZmlsZQ%3D%3D?line=37'>38</a>\u001b[0m     \u001b[39mreturn\u001b[39;00m \u001b[39mnot\u001b[39;00m (\u001b[39mself\u001b[39;49m\u001b[39m.\u001b[39;49m\u001b[39m__lt__\u001b[39;49m(other) \u001b[39mor\u001b[39;00m \u001b[39mself\u001b[39m\u001b[39m.\u001b[39m\u001b[39m__eq__\u001b[39m(other))\n",
      "\u001b[1;32mc:\\zshahpouri\\programming 2\\Class Atom.ipynb Cell 4\u001b[0m in \u001b[0;36m2\n\u001b[0;32m     <a href='vscode-notebook-cell:/c%3A/zshahpouri/programming%202/Class%20Atom.ipynb#W4sZmlsZQ%3D%3D?line=23'>24</a>\u001b[0m \u001b[39mdef\u001b[39;00m \u001b[39m__lt__\u001b[39m(\u001b[39mself\u001b[39m, other):\n\u001b[0;32m     <a href='vscode-notebook-cell:/c%3A/zshahpouri/programming%202/Class%20Atom.ipynb#W4sZmlsZQ%3D%3D?line=24'>25</a>\u001b[0m     \u001b[39mif\u001b[39;00m \u001b[39mnot\u001b[39;00m \u001b[39mself\u001b[39m\u001b[39m.\u001b[39msymbol \u001b[39m==\u001b[39m other\u001b[39m.\u001b[39msymbol:\n\u001b[1;32m---> <a href='vscode-notebook-cell:/c%3A/zshahpouri/programming%202/Class%20Atom.ipynb#W4sZmlsZQ%3D%3D?line=25'>26</a>\u001b[0m         \u001b[39mraise\u001b[39;00m \u001b[39mTypeError\u001b[39;00m(\u001b[39m\"\u001b[39m\u001b[39mCannot compare two different atoms!\u001b[39m\u001b[39m\"\u001b[39m)\n\u001b[0;32m     <a href='vscode-notebook-cell:/c%3A/zshahpouri/programming%202/Class%20Atom.ipynb#W4sZmlsZQ%3D%3D?line=26'>27</a>\u001b[0m     \u001b[39mif\u001b[39;00m \u001b[39mself\u001b[39m\u001b[39m.\u001b[39matomic_number \u001b[39m!=\u001b[39m other\u001b[39m.\u001b[39matomic_number:\n\u001b[0;32m     <a href='vscode-notebook-cell:/c%3A/zshahpouri/programming%202/Class%20Atom.ipynb#W4sZmlsZQ%3D%3D?line=27'>28</a>\u001b[0m         \u001b[39mraise\u001b[39;00m \u001b[39mValueError\u001b[39;00m(\u001b[39m\"\u001b[39m\u001b[39mCan only compare isotopes of the same element.\u001b[39m\u001b[39m\"\u001b[39m)\n",
      "\u001b[1;31mTypeError\u001b[0m: Cannot compare two different atoms!"
     ]
    }
   ],
   "source": [
    "protium = Atom('H', 1, 1)\n",
    "deuterium = Atom('H', 1, 2)\n",
    "oxygen = Atom('O', 8, 8)\n",
    "tritium = Atom('H', 1, 2)\n",
    "tritium.isotope(3)\n",
    "\n",
    "assert tritium.neutron_number == 3\n",
    "assert tritium.mass_number() == 4\n",
    "\n",
    "protium < deuterium\n",
    "assert deuterium <tritium\n",
    "assert tritium > protium\n",
    "print (oxygen > tritium) # <-- this should raise an Exception"
   ]
  }
 ],
 "metadata": {
  "kernelspec": {
   "display_name": "Python 3",
   "language": "python",
   "name": "python3"
  },
  "language_info": {
   "codemirror_mode": {
    "name": "ipython",
    "version": 3
   },
   "file_extension": ".py",
   "mimetype": "text/x-python",
   "name": "python",
   "nbconvert_exporter": "python",
   "pygments_lexer": "ipython3",
   "version": "3.11.0"
  },
  "orig_nbformat": 4
 },
 "nbformat": 4,
 "nbformat_minor": 2
}
