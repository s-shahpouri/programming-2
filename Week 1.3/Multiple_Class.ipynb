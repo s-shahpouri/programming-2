{
 "cells": [
  {
   "attachments": {},
   "cell_type": "markdown",
   "metadata": {},
   "source": [
    "# Step 2: Consuming the data"
   ]
  },
  {
   "cell_type": "markdown",
   "metadata": {},
   "source": [
    "## Approach 1: Create a New Reader-object for Each Consumer (Initializer Dependency)\n",
    "\n",
    "In this approach, each instance of AverageYear and AverageMonth creates its own Reader object when being initialized.\n",
    "\n",
    "### Pros:\n",
    "\n",
    "**Isolation:** Each consumer has its own dedicated Reader instance, ensuring isolation and independence in data processing.\n",
    "\n",
    "**Flexibility:** Consumers can have different configurations or parameters for reading data if needed.\n",
    "\n",
    "\n",
    "### Cons:\n",
    "\n",
    "**Resource Duplication:** If multiple consumers are created, each instance of Reader may load the same data multiple times, potentially consuming more memory.\n",
    "\n",
    "**Resource Inefficiency:** The same data may be loaded and processed multiple times, leading to inefficiency if data is large.\n",
    "Increased Complexity: Managing multiple Reader instances and coordinating their behavior might lead to more complex code.\n",
    "\n",
    "\n",
    "## Approach 2: Share a Single Reader-object Among Consumers (External Dependency)\n",
    "\n",
    "In this approach, a single Reader instance is created and shared among instances of AverageYear and AverageMonth.\n",
    "\n",
    "\n",
    "### Pros:\n",
    "\n",
    "**Resource Efficiency:** Only one instance of Reader loads and processes data, reducing memory usage.\n",
    "\n",
    "**Consistency:** All consumers use the same data source, ensuring consistency in data processing.\n",
    "\n",
    "**Simplicity:** Managing a single Reader instance reduces complexity compared to creating multiple instances.\n",
    "\n",
    "\n",
    "### Cons:\n",
    "\n",
    "**Limited Flexibility:** All consumers share the same Reader configuration and data source, which might not be suitable if consumers have different requirements."
   ]
  },
  {
   "cell_type": "markdown",
   "metadata": {},
   "source": [
    "-----"
   ]
  }
 ],
 "metadata": {
  "kernelspec": {
   "display_name": "Python 3",
   "language": "python",
   "name": "python3"
  },
  "language_info": {
   "codemirror_mode": {
    "name": "ipython",
    "version": 3
   },
   "file_extension": ".py",
   "mimetype": "text/x-python",
   "name": "python",
   "nbconvert_exporter": "python",
   "pygments_lexer": "ipython3",
   "version": "3.11.0"
  },
  "orig_nbformat": 4
 },
 "nbformat": 4,
 "nbformat_minor": 2
}
