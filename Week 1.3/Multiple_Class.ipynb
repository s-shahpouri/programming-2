{
 "cells": [
  {
   "cell_type": "code",
   "execution_count": 14,
   "metadata": {},
   "outputs": [],
   "source": [
    "import matplotlib.pyplot as plt\n",
    "import linecache\n",
    "import time"
   ]
  },
  {
   "attachments": {},
   "cell_type": "markdown",
   "metadata": {},
   "source": [
    "# Step 1: Producing data\n",
    "\n",
    "### From CSV to JSON"
   ]
  },
  {
   "cell_type": "code",
   "execution_count": 15,
   "metadata": {},
   "outputs": [],
   "source": [
    "import json  # To convert dictionaries to JSON\n",
    "\n",
    "class CsvConverter:\n",
    "    \"\"\"This class converts CSV data to JSON.\"\"\"\n",
    "\n",
    "    def __init__(self, keys_str):\n",
    "        # The __init__ method runs when the class is instantiated.\n",
    "        # Here we're setting the keys of our CSV data by splitting\n",
    "        # the first line of the CSV on commas.\n",
    "        self.keys = keys_str.split(',')\n",
    "        \n",
    "    def csv_to_json(self, csv_lines):\n",
    "        # This method takes a list of CSV lines (strings)\n",
    "        # and converts them to JSON.\n",
    "        json_data = []  # We'll store our JSON data here\n",
    "        \n",
    "        for line in csv_lines:  # We loop over the CSV lines\n",
    "            values = line.split(',')  # We split each line into values\n",
    "            \n",
    "            # We check if the number of keys matches the number of values\n",
    "            # If not, we print a warning and skip this line\n",
    "            if len(self.keys) != len(values):\n",
    "                print(\"Warning: numbers of keys and values don't match in line:\", line)\n",
    "                continue\n",
    "            \n",
    "            # We create dictionary from keys and values using the zip function\n",
    "            data_dict = dict(zip(self.keys, values))\n",
    "            \n",
    "            # We convert dictionary to a JSON string and add it to our list\n",
    "            json_data.append(json.dumps(data_dict))\n",
    "            \n",
    "        return json_data  # We return the JSON data\n",
    "    \n"
   ]
  },
  {
   "attachments": {},
   "cell_type": "markdown",
   "metadata": {},
   "source": [
    "### Getting the data"
   ]
  },
  {
   "cell_type": "code",
   "execution_count": 16,
   "metadata": {},
   "outputs": [],
   "source": [
    "import linecache\n",
    "\n",
    "class Reader:\n",
    "    ''' This class reads a CSV file and returns a JSON string.'''\n",
    "    def __init__(self, csv_file, stride):\n",
    "        self.csv_file = csv_file\n",
    "        self.stride = stride\n",
    "        self.current_line = 2  # Start from line 2, assuming line 1 is the header\n",
    "        self.converter = CsvConverter(linecache.getline(csv_file, 1).strip())\n",
    "\n",
    "    def get_lines(self):\n",
    "        lines = []\n",
    "        for _ in range(self.stride):\n",
    "            line = linecache.getline(self.csv_file, self.current_line)\n",
    "            if line:\n",
    "                lines.append(line.strip())\n",
    "                self.current_line += 1\n",
    "            else:\n",
    "                break\n",
    "\n",
    "        if not lines:\n",
    "            return \"\"\n",
    "\n",
    "        return self.converter.csv_to_json(lines)\n"
   ]
  },
  {
   "attachments": {},
   "cell_type": "markdown",
   "metadata": {},
   "source": [
    "Create instances of Reader and use the get_lines method to retrieve JSON data in strides"
   ]
  },
  {
   "cell_type": "code",
   "execution_count": 17,
   "metadata": {},
   "outputs": [
    {
     "name": "stdout",
     "output_type": "stream",
     "text": [
      "['{\"Year\": \"1881\", \"Jan\": \"-.18\", \"Feb\": \"-.13\", \"Mar\": \".04\", \"Apr\": \".06\", \"May\": \".07\", \"Jun\": \"-.17\", \"Jul\": \".02\", \"Aug\": \"-.02\", \"Sep\": \"-.14\", \"Oct\": \"-.21\", \"Nov\": \"-.17\", \"Dec\": \"-.06\", \"J-D\": \"-.07\", \"D-N\": \"-.08\", \"DJF\": \"-.16\", \"MAM\": \".06\", \"JJA\": \"-.06\", \"SON\": \"-.17\"}', '{\"Year\": \"1882\", \"Jan\": \".17\", \"Feb\": \".15\", \"Mar\": \".05\", \"Apr\": \"-.16\", \"May\": \"-.13\", \"Jun\": \"-.22\", \"Jul\": \"-.15\", \"Aug\": \"-.06\", \"Sep\": \"-.13\", \"Oct\": \"-.23\", \"Nov\": \"-.15\", \"Dec\": \"-.36\", \"J-D\": \"-.10\", \"D-N\": \"-.08\", \"DJF\": \".09\", \"MAM\": \"-.08\", \"JJA\": \"-.15\", \"SON\": \"-.17\"}', '{\"Year\": \"1883\", \"Jan\": \"-.28\", \"Feb\": \"-.36\", \"Mar\": \"-.12\", \"Apr\": \"-.18\", \"May\": \"-.17\", \"Jun\": \"-.06\", \"Jul\": \"-.06\", \"Aug\": \"-.13\", \"Sep\": \"-.21\", \"Oct\": \"-.11\", \"Nov\": \"-.23\", \"Dec\": \"-.11\", \"J-D\": \"-.17\", \"D-N\": \"-.19\", \"DJF\": \"-.33\", \"MAM\": \"-.15\", \"JJA\": \"-.09\", \"SON\": \"-.19\"}', '{\"Year\": \"1884\", \"Jan\": \"-.12\", \"Feb\": \"-.07\", \"Mar\": \"-.36\", \"Apr\": \"-.39\", \"May\": \"-.33\", \"Jun\": \"-.34\", \"Jul\": \"-.32\", \"Aug\": \"-.27\", \"Sep\": \"-.26\", \"Oct\": \"-.24\", \"Nov\": \"-.33\", \"Dec\": \"-.30\", \"J-D\": \"-.28\", \"D-N\": \"-.26\", \"DJF\": \"-.10\", \"MAM\": \"-.36\", \"JJA\": \"-.31\", \"SON\": \"-.28\"}', '{\"Year\": \"1885\", \"Jan\": \"-.58\", \"Feb\": \"-.33\", \"Mar\": \"-.26\", \"Apr\": \"-.41\", \"May\": \"-.45\", \"Jun\": \"-.43\", \"Jul\": \"-.33\", \"Aug\": \"-.31\", \"Sep\": \"-.28\", \"Oct\": \"-.23\", \"Nov\": \"-.23\", \"Dec\": \"-.10\", \"J-D\": \"-.33\", \"D-N\": \"-.34\", \"DJF\": \"-.40\", \"MAM\": \"-.37\", \"JJA\": \"-.36\", \"SON\": \"-.25\"}']\n",
      "['{\"Year\": \"1886\", \"Jan\": \"-.43\", \"Feb\": \"-.50\", \"Mar\": \"-.43\", \"Apr\": \"-.28\", \"May\": \"-.24\", \"Jun\": \"-.34\", \"Jul\": \"-.18\", \"Aug\": \"-.30\", \"Sep\": \"-.23\", \"Oct\": \"-.27\", \"Nov\": \"-.27\", \"Dec\": \"-.25\", \"J-D\": \"-.31\", \"D-N\": \"-.30\", \"DJF\": \"-.34\", \"MAM\": \"-.31\", \"JJA\": \"-.27\", \"SON\": \"-.26\"}', '{\"Year\": \"1887\", \"Jan\": \"-.71\", \"Feb\": \"-.56\", \"Mar\": \"-.35\", \"Apr\": \"-.34\", \"May\": \"-.30\", \"Jun\": \"-.24\", \"Jul\": \"-.25\", \"Aug\": \"-.35\", \"Sep\": \"-.25\", \"Oct\": \"-.35\", \"Nov\": \"-.26\", \"Dec\": \"-.32\", \"J-D\": \"-.36\", \"D-N\": \"-.35\", \"DJF\": \"-.51\", \"MAM\": \"-.33\", \"JJA\": \"-.28\", \"SON\": \"-.29\"}', '{\"Year\": \"1888\", \"Jan\": \"-.33\", \"Feb\": \"-.35\", \"Mar\": \"-.41\", \"Apr\": \"-.20\", \"May\": \"-.21\", \"Jun\": \"-.17\", \"Jul\": \"-.10\", \"Aug\": \"-.15\", \"Sep\": \"-.11\", \"Oct\": \".02\", \"Nov\": \".03\", \"Dec\": \"-.03\", \"J-D\": \"-.17\", \"D-N\": \"-.19\", \"DJF\": \"-.34\", \"MAM\": \"-.27\", \"JJA\": \"-.14\", \"SON\": \"-.02\"}', '{\"Year\": \"1889\", \"Jan\": \"-.08\", \"Feb\": \".17\", \"Mar\": \".07\", \"Apr\": \".10\", \"May\": \".00\", \"Jun\": \"-.09\", \"Jul\": \"-.07\", \"Aug\": \"-.20\", \"Sep\": \"-.23\", \"Oct\": \"-.25\", \"Nov\": \"-.33\", \"Dec\": \"-.28\", \"J-D\": \"-.10\", \"D-N\": \"-.08\", \"DJF\": \".02\", \"MAM\": \".06\", \"JJA\": \"-.12\", \"SON\": \"-.27\"}', '{\"Year\": \"1890\", \"Jan\": \"-.41\", \"Feb\": \"-.44\", \"Mar\": \"-.39\", \"Apr\": \"-.29\", \"May\": \"-.38\", \"Jun\": \"-.24\", \"Jul\": \"-.27\", \"Aug\": \"-.38\", \"Sep\": \"-.36\", \"Oct\": \"-.24\", \"Nov\": \"-.43\", \"Dec\": \"-.30\", \"J-D\": \"-.34\", \"D-N\": \"-.34\", \"DJF\": \"-.38\", \"MAM\": \"-.35\", \"JJA\": \"-.30\", \"SON\": \"-.34\"}']\n",
      "['{\"Year\": \"1891\", \"Jan\": \"-.33\", \"Feb\": \"-.46\", \"Mar\": \"-.18\", \"Apr\": \"-.27\", \"May\": \"-.16\", \"Jun\": \"-.20\", \"Jul\": \"-.17\", \"Aug\": \"-.17\", \"Sep\": \"-.15\", \"Oct\": \"-.21\", \"Nov\": \"-.31\", \"Dec\": \"-.04\", \"J-D\": \"-.22\", \"D-N\": \"-.24\", \"DJF\": \"-.37\", \"MAM\": \"-.20\", \"JJA\": \"-.18\", \"SON\": \"-.22\"}', '{\"Year\": \"1892\", \"Jan\": \"-.28\", \"Feb\": \"-.10\", \"Mar\": \"-.40\", \"Apr\": \"-.33\", \"May\": \"-.23\", \"Jun\": \"-.22\", \"Jul\": \"-.31\", \"Aug\": \"-.27\", \"Sep\": \"-.16\", \"Oct\": \"-.14\", \"Nov\": \"-.41\", \"Dec\": \"-.38\", \"J-D\": \"-.27\", \"D-N\": \"-.24\", \"DJF\": \"-.14\", \"MAM\": \"-.32\", \"JJA\": \"-.27\", \"SON\": \"-.24\"}', '{\"Year\": \"1893\", \"Jan\": \"-.81\", \"Feb\": \"-.56\", \"Mar\": \"-.22\", \"Apr\": \"-.27\", \"May\": \"-.33\", \"Jun\": \"-.25\", \"Jul\": \"-.14\", \"Aug\": \"-.24\", \"Sep\": \"-.22\", \"Oct\": \"-.18\", \"Nov\": \"-.18\", \"Dec\": \"-.31\", \"J-D\": \"-.31\", \"D-N\": \"-.32\", \"DJF\": \"-.58\", \"MAM\": \"-.27\", \"JJA\": \"-.21\", \"SON\": \"-.19\"}', '{\"Year\": \"1894\", \"Jan\": \"-.52\", \"Feb\": \"-.28\", \"Mar\": \"-.23\", \"Apr\": \"-.44\", \"May\": \"-.30\", \"Jun\": \"-.40\", \"Jul\": \"-.24\", \"Aug\": \"-.23\", \"Sep\": \"-.28\", \"Oct\": \"-.23\", \"Nov\": \"-.25\", \"Dec\": \"-.20\", \"J-D\": \"-.30\", \"D-N\": \"-.31\", \"DJF\": \"-.37\", \"MAM\": \"-.32\", \"JJA\": \"-.29\", \"SON\": \"-.25\"}', '{\"Year\": \"1895\", \"Jan\": \"-.40\", \"Feb\": \"-.42\", \"Mar\": \"-.32\", \"Apr\": \"-.21\", \"May\": \"-.27\", \"Jun\": \"-.21\", \"Jul\": \"-.16\", \"Aug\": \"-.16\", \"Sep\": \"-.12\", \"Oct\": \"-.10\", \"Nov\": \"-.16\", \"Dec\": \"-.14\", \"J-D\": \"-.22\", \"D-N\": \"-.23\", \"DJF\": \"-.34\", \"MAM\": \"-.27\", \"JJA\": \"-.18\", \"SON\": \"-.13\"}']\n"
     ]
    }
   ],
   "source": [
    "# create instances of Reader and use the get_lines method\n",
    "# to retrieve JSON data in strides of 5 lines\n",
    "\n",
    "reader = Reader('dSST.csv', stride=5)\n",
    "print(reader.get_lines())  # Returns lines 2-6 as JSON\n",
    "print(reader.get_lines())  # Returns lines 7-11 as JSON\n",
    "print(reader.get_lines())  # Returns lines 12-16 as JSON"
   ]
  },
  {
   "cell_type": "code",
   "execution_count": 18,
   "metadata": {},
   "outputs": [],
   "source": [
    "\n",
    "\n",
    "def plot_average_temperature(self):\n",
    "    self.ax.clear()\n",
    "    self.ax.plot(self.years, self.temperatures, 'bo-')\n",
    "    self.ax.set_xlabel('Year')\n",
    "    self.ax.set_ylabel('Average Temperature')\n",
    "    self.ax.set_title('Average Yearly Temperature')\n",
    "    self.ax.grid(True)\n",
    "    plt.pause(0.01)"
   ]
  },
  {
   "attachments": {},
   "cell_type": "markdown",
   "metadata": {},
   "source": [
    "___________________"
   ]
  },
  {
   "attachments": {},
   "cell_type": "markdown",
   "metadata": {},
   "source": [
    "___________"
   ]
  },
  {
   "attachments": {},
   "cell_type": "markdown",
   "metadata": {},
   "source": [
    "# Step 2: Consuming the data"
   ]
  },
  {
   "cell_type": "code",
   "execution_count": 19,
   "metadata": {},
   "outputs": [],
   "source": [
    "class AverageYear:\n",
    "    '''This class calculates the average temperature anomaly per year.'''\n",
    "    def __init__(self, reader):\n",
    "        self.reader = reader \n",
    "        self.dataframe = pd.DataFrame()\n",
    "\n",
    "    def calculate_avg(self):\n",
    "        '''This method calculates the average temperature anomaly per year.'''\n",
    "\n",
    "        while True: \n",
    "            lines = self.reader.get_lines()\n",
    "            if not lines:\n",
    "                break\n",
    "            \n",
    "            data = [json.loads(line) for line in lines]\n",
    "            df = pd.DataFrame(data)\n",
    "            \n",
    "            df.set_index('Year', inplace=True)\n",
    "            df = df.apply(pd.to_numeric, errors='coerce')  # Convert all columns to numeric, setting non-numeric values to NaN\n",
    "            \n",
    "            df['Average'] = df.mean(axis=1, numeric_only=True)  # calculate mean only for numeric columns\n",
    "            \n",
    "            self.dataframe = pd.concat([self.dataframe, df])  # Use pd.concat instead of deprecated .append\n",
    "            \n",
    "        print(self.dataframe['Average'])\n",
    "\n",
    "\n",
    "class AverageMonth:\n",
    "    ''' This class calculates the average temperature anomaly per month.'''\n",
    "    def __init__(self, reader):\n",
    "        self.reader = reader\n",
    "        self.dataframe = pd.DataFrame()\n",
    "\n",
    "    def calculate_avg(self):\n",
    "        '''Calculates the average temperature anomaly per month.'''\n",
    "        while True:\n",
    "            lines = self.reader.get_lines()\n",
    "            if not lines:\n",
    "                break\n",
    "            \n",
    "            data = [json.loads(line) for line in lines]\n",
    "            df = pd.DataFrame(data)\n",
    "            \n",
    "            df.set_index('Year', inplace=True)\n",
    "            df = df.apply(pd.to_numeric, errors='coerce')  # Convert all columns to numeric, setting non-numeric values to NaN\n",
    "            \n",
    "            df = df.transpose()  \n",
    "            \n",
    "            df['Average'] = df.mean(axis=1, numeric_only=True)  # calculate mean only for numeric columns\n",
    "            \n",
    "            self.dataframe = pd.concat([self.dataframe, df])\n",
    "        \n",
    "        print(self.dataframe['Average'])\n",
    "\n"
   ]
  },
  {
   "cell_type": "code",
   "execution_count": 20,
   "metadata": {},
   "outputs": [
    {
     "ename": "NameError",
     "evalue": "name 'pd' is not defined",
     "output_type": "error",
     "traceback": [
      "\u001b[1;31m---------------------------------------------------------------------------\u001b[0m",
      "\u001b[1;31mNameError\u001b[0m                                 Traceback (most recent call last)",
      "\u001b[1;32mc:\\zshahpouri\\programming 2\\Week 1.3\\Multiple_Class.ipynb Cell 13\u001b[0m in \u001b[0;36m2\n\u001b[0;32m      <a href='vscode-notebook-cell:/c%3A/zshahpouri/programming%202/Week%201.3/Multiple_Class.ipynb#X13sZmlsZQ%3D%3D?line=0'>1</a>\u001b[0m reader \u001b[39m=\u001b[39m Reader(\u001b[39m'\u001b[39m\u001b[39mdSST.csv\u001b[39m\u001b[39m'\u001b[39m, stride\u001b[39m=\u001b[39m\u001b[39m5\u001b[39m)  \u001b[39m# stride is provided here\u001b[39;00m\n\u001b[1;32m----> <a href='vscode-notebook-cell:/c%3A/zshahpouri/programming%202/Week%201.3/Multiple_Class.ipynb#X13sZmlsZQ%3D%3D?line=1'>2</a>\u001b[0m average_year \u001b[39m=\u001b[39m AverageYear(reader)\n\u001b[0;32m      <a href='vscode-notebook-cell:/c%3A/zshahpouri/programming%202/Week%201.3/Multiple_Class.ipynb#X13sZmlsZQ%3D%3D?line=2'>3</a>\u001b[0m average_year\u001b[39m.\u001b[39mcalculate_avg()\n\u001b[0;32m      <a href='vscode-notebook-cell:/c%3A/zshahpouri/programming%202/Week%201.3/Multiple_Class.ipynb#X13sZmlsZQ%3D%3D?line=4'>5</a>\u001b[0m reader \u001b[39m=\u001b[39m Reader(\u001b[39m'\u001b[39m\u001b[39mdSST.csv\u001b[39m\u001b[39m'\u001b[39m, stride\u001b[39m=\u001b[39m\u001b[39m5\u001b[39m)  \u001b[39m# stride is provided here\u001b[39;00m\n",
      "\u001b[1;32mc:\\zshahpouri\\programming 2\\Week 1.3\\Multiple_Class.ipynb Cell 13\u001b[0m in \u001b[0;36m5\n\u001b[0;32m      <a href='vscode-notebook-cell:/c%3A/zshahpouri/programming%202/Week%201.3/Multiple_Class.ipynb#X13sZmlsZQ%3D%3D?line=2'>3</a>\u001b[0m \u001b[39mdef\u001b[39;00m \u001b[39m__init__\u001b[39m(\u001b[39mself\u001b[39m, reader):\n\u001b[0;32m      <a href='vscode-notebook-cell:/c%3A/zshahpouri/programming%202/Week%201.3/Multiple_Class.ipynb#X13sZmlsZQ%3D%3D?line=3'>4</a>\u001b[0m     \u001b[39mself\u001b[39m\u001b[39m.\u001b[39mreader \u001b[39m=\u001b[39m reader \n\u001b[1;32m----> <a href='vscode-notebook-cell:/c%3A/zshahpouri/programming%202/Week%201.3/Multiple_Class.ipynb#X13sZmlsZQ%3D%3D?line=4'>5</a>\u001b[0m     \u001b[39mself\u001b[39m\u001b[39m.\u001b[39mdataframe \u001b[39m=\u001b[39m pd\u001b[39m.\u001b[39mDataFrame()\n",
      "\u001b[1;31mNameError\u001b[0m: name 'pd' is not defined"
     ]
    }
   ],
   "source": [
    "\n",
    "reader = Reader('dSST.csv', stride=5)  # stride is provided here\n",
    "average_year = AverageYear(reader)\n",
    "average_year.calculate_avg()\n",
    "\n",
    "reader = Reader('dSST.csv', stride=5)  # stride is provided here\n",
    "average_month = AverageMonth(reader)\n",
    "average_month.calculate_avg()\n",
    "\n"
   ]
  },
  {
   "cell_type": "code",
   "execution_count": 23,
   "metadata": {},
   "outputs": [
    {
     "ename": "ImportError",
     "evalue": "cannot import name 'raises_chained_assignment_error' from 'pandas._testing.contexts' (c:\\Users\\LENOVO\\AppData\\Local\\Programs\\Python\\Python311\\Lib\\site-packages\\pandas\\_testing\\contexts.py)",
     "output_type": "error",
     "traceback": [
      "\u001b[1;31m---------------------------------------------------------------------------\u001b[0m",
      "\u001b[1;31mImportError\u001b[0m                               Traceback (most recent call last)",
      "\u001b[1;32mc:\\zshahpouri\\programming 2\\Week 1.3\\Multiple_Class.ipynb Cell 14\u001b[0m in \u001b[0;36m1\n\u001b[1;32m----> <a href='vscode-notebook-cell:/c%3A/zshahpouri/programming%202/Week%201.3/Multiple_Class.ipynb#X30sZmlsZQ%3D%3D?line=0'>1</a>\u001b[0m \u001b[39mimport\u001b[39;00m \u001b[39mpandas\u001b[39;00m \u001b[39mas\u001b[39;00m \u001b[39mpd\u001b[39;00m\n",
      "File \u001b[1;32mc:\\Users\\LENOVO\\AppData\\Local\\Programs\\Python\\Python311\\Lib\\site-packages\\pandas\\__init__.py:138\u001b[0m\n\u001b[0;32m    120\u001b[0m \u001b[39mfrom\u001b[39;00m \u001b[39mpandas\u001b[39;00m\u001b[39m.\u001b[39;00m\u001b[39mcore\u001b[39;00m\u001b[39m.\u001b[39;00m\u001b[39mreshape\u001b[39;00m\u001b[39m.\u001b[39;00m\u001b[39mapi\u001b[39;00m \u001b[39mimport\u001b[39;00m (\n\u001b[0;32m    121\u001b[0m     concat,\n\u001b[0;32m    122\u001b[0m     lreshape,\n\u001b[1;32m   (...)\u001b[0m\n\u001b[0;32m    134\u001b[0m     qcut,\n\u001b[0;32m    135\u001b[0m )\n\u001b[0;32m    137\u001b[0m \u001b[39mfrom\u001b[39;00m \u001b[39mpandas\u001b[39;00m \u001b[39mimport\u001b[39;00m api, arrays, errors, io, plotting, tseries\n\u001b[1;32m--> 138\u001b[0m \u001b[39mfrom\u001b[39;00m \u001b[39mpandas\u001b[39;00m \u001b[39mimport\u001b[39;00m testing\n\u001b[0;32m    139\u001b[0m \u001b[39mfrom\u001b[39;00m \u001b[39mpandas\u001b[39;00m\u001b[39m.\u001b[39;00m\u001b[39mutil\u001b[39;00m\u001b[39m.\u001b[39;00m\u001b[39m_print_versions\u001b[39;00m \u001b[39mimport\u001b[39;00m show_versions\n\u001b[0;32m    141\u001b[0m \u001b[39mfrom\u001b[39;00m \u001b[39mpandas\u001b[39;00m\u001b[39m.\u001b[39;00m\u001b[39mio\u001b[39;00m\u001b[39m.\u001b[39;00m\u001b[39mapi\u001b[39;00m \u001b[39mimport\u001b[39;00m (\n\u001b[0;32m    142\u001b[0m     \u001b[39m# excel\u001b[39;00m\n\u001b[0;32m    143\u001b[0m     ExcelFile,\n\u001b[1;32m   (...)\u001b[0m\n\u001b[0;32m    171\u001b[0m     read_spss,\n\u001b[0;32m    172\u001b[0m )\n",
      "File \u001b[1;32mc:\\Users\\LENOVO\\AppData\\Local\\Programs\\Python\\Python311\\Lib\\site-packages\\pandas\\testing.py:6\u001b[0m\n\u001b[0;32m      1\u001b[0m \u001b[39m\"\"\"\u001b[39;00m\n\u001b[0;32m      2\u001b[0m \u001b[39mPublic testing utility functions.\u001b[39;00m\n\u001b[0;32m      3\u001b[0m \u001b[39m\"\"\"\u001b[39;00m\n\u001b[1;32m----> 6\u001b[0m \u001b[39mfrom\u001b[39;00m \u001b[39mpandas\u001b[39;00m\u001b[39m.\u001b[39;00m\u001b[39m_testing\u001b[39;00m \u001b[39mimport\u001b[39;00m (\n\u001b[0;32m      7\u001b[0m     assert_extension_array_equal,\n\u001b[0;32m      8\u001b[0m     assert_frame_equal,\n\u001b[0;32m      9\u001b[0m     assert_index_equal,\n\u001b[0;32m     10\u001b[0m     assert_series_equal,\n\u001b[0;32m     11\u001b[0m )\n\u001b[0;32m     13\u001b[0m __all__ \u001b[39m=\u001b[39m [\n\u001b[0;32m     14\u001b[0m     \u001b[39m\"\u001b[39m\u001b[39massert_extension_array_equal\u001b[39m\u001b[39m\"\u001b[39m,\n\u001b[0;32m     15\u001b[0m     \u001b[39m\"\u001b[39m\u001b[39massert_frame_equal\u001b[39m\u001b[39m\"\u001b[39m,\n\u001b[0;32m     16\u001b[0m     \u001b[39m\"\u001b[39m\u001b[39massert_series_equal\u001b[39m\u001b[39m\"\u001b[39m,\n\u001b[0;32m     17\u001b[0m     \u001b[39m\"\u001b[39m\u001b[39massert_index_equal\u001b[39m\u001b[39m\"\u001b[39m,\n\u001b[0;32m     18\u001b[0m ]\n",
      "File \u001b[1;32mc:\\Users\\LENOVO\\AppData\\Local\\Programs\\Python\\Python311\\Lib\\site-packages\\pandas\\_testing\\__init__.py:103\u001b[0m\n\u001b[0;32m     74\u001b[0m \u001b[39mfrom\u001b[39;00m \u001b[39mpandas\u001b[39;00m\u001b[39m.\u001b[39;00m\u001b[39m_testing\u001b[39;00m\u001b[39m.\u001b[39;00m\u001b[39masserters\u001b[39;00m \u001b[39mimport\u001b[39;00m (\n\u001b[0;32m     75\u001b[0m     assert_almost_equal,\n\u001b[0;32m     76\u001b[0m     assert_attr_equal,\n\u001b[1;32m   (...)\u001b[0m\n\u001b[0;32m     97\u001b[0m     raise_assert_detail,\n\u001b[0;32m     98\u001b[0m )\n\u001b[0;32m     99\u001b[0m \u001b[39mfrom\u001b[39;00m \u001b[39mpandas\u001b[39;00m\u001b[39m.\u001b[39;00m\u001b[39m_testing\u001b[39;00m\u001b[39m.\u001b[39;00m\u001b[39mcompat\u001b[39;00m \u001b[39mimport\u001b[39;00m (\n\u001b[0;32m    100\u001b[0m     get_dtype,\n\u001b[0;32m    101\u001b[0m     get_obj,\n\u001b[0;32m    102\u001b[0m )\n\u001b[1;32m--> 103\u001b[0m \u001b[39mfrom\u001b[39;00m \u001b[39mpandas\u001b[39;00m\u001b[39m.\u001b[39;00m\u001b[39m_testing\u001b[39;00m\u001b[39m.\u001b[39;00m\u001b[39mcontexts\u001b[39;00m \u001b[39mimport\u001b[39;00m (\n\u001b[0;32m    104\u001b[0m     decompress_file,\n\u001b[0;32m    105\u001b[0m     ensure_clean,\n\u001b[0;32m    106\u001b[0m     ensure_safe_environment_variables,\n\u001b[0;32m    107\u001b[0m     raises_chained_assignment_error,\n\u001b[0;32m    108\u001b[0m     set_timezone,\n\u001b[0;32m    109\u001b[0m     use_numexpr,\n\u001b[0;32m    110\u001b[0m     with_csv_dialect,\n\u001b[0;32m    111\u001b[0m )\n\u001b[0;32m    112\u001b[0m \u001b[39mfrom\u001b[39;00m \u001b[39mpandas\u001b[39;00m\u001b[39m.\u001b[39;00m\u001b[39mcore\u001b[39;00m\u001b[39m.\u001b[39;00m\u001b[39marrays\u001b[39;00m \u001b[39mimport\u001b[39;00m (\n\u001b[0;32m    113\u001b[0m     BaseMaskedArray,\n\u001b[0;32m    114\u001b[0m     ExtensionArray,\n\u001b[0;32m    115\u001b[0m     PandasArray,\n\u001b[0;32m    116\u001b[0m )\n\u001b[0;32m    117\u001b[0m \u001b[39mfrom\u001b[39;00m \u001b[39mpandas\u001b[39;00m\u001b[39m.\u001b[39;00m\u001b[39mcore\u001b[39;00m\u001b[39m.\u001b[39;00m\u001b[39marrays\u001b[39;00m\u001b[39m.\u001b[39;00m\u001b[39m_mixins\u001b[39;00m \u001b[39mimport\u001b[39;00m NDArrayBackedExtensionArray\n",
      "\u001b[1;31mImportError\u001b[0m: cannot import name 'raises_chained_assignment_error' from 'pandas._testing.contexts' (c:\\Users\\LENOVO\\AppData\\Local\\Programs\\Python\\Python311\\Lib\\site-packages\\pandas\\_testing\\contexts.py)"
     ]
    }
   ],
   "source": [
    "import pandas as pd\n"
   ]
  },
  {
   "attachments": {},
   "cell_type": "markdown",
   "metadata": {},
   "source": [
    "### Extending the reade"
   ]
  },
  {
   "attachments": {},
   "cell_type": "markdown",
   "metadata": {},
   "source": [
    "For extending the Reader class to include methods for adding, removing, and notifying observers\n",
    "\n",
    "We can edit the __init__ method.\n",
    "\n",
    "we create an empty list to hold the observers.\n",
    "\n",
    "We'll also update the get_lines method."
   ]
  },
  {
   "cell_type": "code",
   "execution_count": null,
   "metadata": {},
   "outputs": [],
   "source": [
    "import time\n",
    "\n",
    "class Reader:\n",
    "    ''' This class reads a CSV file and returns a JSON string.'''\n",
    "    def __init__(self, csv_file, stride):\n",
    "        self.csv_file = csv_file\n",
    "        self.stride = stride\n",
    "        self.current_line = 2  # Start from line 2, assuming line 1 is the header\n",
    "        self.converter = CsvConverter(linecache.getline(csv_file, 1).strip())\n",
    "        self.observers = []\n",
    "\n",
    "    def add_observer(self, observer):\n",
    "        '''This method adds an observer to the list of observers.'''\n",
    "        if observer not in self.observers:\n",
    "            self.observers.append(observer)\n",
    "\n",
    "    def remove_observer(self, observer):\n",
    "        '''This method removes an observer from the list of observers.'''\n",
    "        if observer in self.observers:\n",
    "            self.observers.remove(observer)\n",
    "\n",
    "    def notify_observers(self, lines):\n",
    "        '''This method notifies all observers of a change.'''\n",
    "        for observer in self.observers:\n",
    "            observer.update(lines)\n",
    "\n",
    "    def get_lines(self):\n",
    "        '''This method reads a number of lines from the CSV file and returns a JSON string.'''\n",
    "        lines = []\n",
    "        for _ in range(self.stride):\n",
    "            line = linecache.getline(self.csv_file, self.current_line)\n",
    "            if line:\n",
    "                lines.append(line.strip())\n",
    "                self.current_line += 1\n",
    "            else:\n",
    "                break\n",
    "        if lines:\n",
    "            self.notify_observers(lines)\n",
    "        time.sleep(5)\n"
   ]
  },
  {
   "attachments": {},
   "cell_type": "markdown",
   "metadata": {},
   "source": [
    "### Extending the consumers"
   ]
  },
  {
   "attachments": {},
   "cell_type": "markdown",
   "metadata": {},
   "source": [
    "For updating the AverageYear and AverageMonth classes to include an update method.\n",
    "This method takes the lines as input and performs the same processing as before."
   ]
  },
  {
   "cell_type": "code",
   "execution_count": null,
   "metadata": {},
   "outputs": [],
   "source": [
    "class AverageYear:\n",
    "    '''This class calculates the average temperature anomaly per year.'''\n",
    "    def __init__(self, reader):\n",
    "        self.reader = reader\n",
    "        self.dataframe = pd.DataFrame()\n",
    "\n",
    "    def update(self, lines):\n",
    "        '''This method calculates the average temperature anomaly per year.'''\n",
    "        data = [json.loads(line) for line in lines]\n",
    "        df = pd.DataFrame(data)\n",
    "        df.set_index('Year', inplace=True)\n",
    "        df['Average'] = df.iloc[:, 0:12].mean(axis=1)\n",
    "        self.dataframe = pd.concat([self.dataframe, df])\n",
    "        print(self.dataframe['Average'])\n",
    "\n",
    "class AverageMonth:\n",
    "    ''' This class calculates the average temperature anomaly per month.'''\n",
    "    def __init__(self, reader):\n",
    "        self.reader = reader\n",
    "        self.dataframe = pd.DataFrame()\n",
    "\n",
    "    def update(self, lines):\n",
    "        data = [json.loads(line) for line in lines]\n",
    "        df = pd.DataFrame(data)\n",
    "        df.set_index('Year', inplace=True)\n",
    "        df = df.iloc[:, 0:12].transpose()\n",
    "        df['Average'] = df.mean(axis=1)\n",
    "        self.dataframe = pd.concat([self.dataframe, df])\n",
    "        print(self.dataframe['Average'])\n"
   ]
  },
  {
   "cell_type": "code",
   "execution_count": null,
   "metadata": {},
   "outputs": [],
   "source": [
    "reader = Reader('dSST.csv', stride=5)\n",
    "average_year = AverageYear(reader)\n",
    "average_month = AverageMonth(reader)\n",
    "reader.add_observer(average_year)\n",
    "reader.add_observer(average_month)"
   ]
  },
  {
   "attachments": {},
   "cell_type": "markdown",
   "metadata": {},
   "source": [
    "With this setup, every time Reader.get_lines retrieves new lines, it notifies the observers, which update their calculations and print the new averages."
   ]
  }
 ],
 "metadata": {
  "kernelspec": {
   "display_name": "Python 3",
   "language": "python",
   "name": "python3"
  },
  "language_info": {
   "codemirror_mode": {
    "name": "ipython",
    "version": 3
   },
   "file_extension": ".py",
   "mimetype": "text/x-python",
   "name": "python",
   "nbconvert_exporter": "python",
   "pygments_lexer": "ipython3",
   "version": "3.11.0"
  },
  "orig_nbformat": 4
 },
 "nbformat": 4,
 "nbformat_minor": 2
}
