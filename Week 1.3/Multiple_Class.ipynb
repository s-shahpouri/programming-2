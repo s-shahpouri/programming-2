{
 "cells": [
  {
   "attachments": {},
   "cell_type": "markdown",
   "metadata": {},
   "source": [
    "# Step 1: Producing data"
   ]
  },
  {
   "cell_type": "code",
   "execution_count": null,
   "metadata": {},
   "outputs": [],
   "source": [
    "import json  # To convert dictionaries to JSON\n",
    "\n",
    "class CsvConverter:\n",
    "    \"\"\"This class converts CSV data to JSON.\"\"\"\n",
    "\n",
    "    def __init__(self, keys_str):\n",
    "        # The __init__ method runs when the class is instantiated.\n",
    "        # Here we're setting the keys of our CSV data by splitting\n",
    "        # the first line of the CSV on commas.\n",
    "        self.keys = keys_str.split(',')\n",
    "        \n",
    "    def csv_to_json(self, csv_lines):\n",
    "        # This method takes a list of CSV lines (strings)\n",
    "        # and converts them to JSON.\n",
    "        json_data = []  # We'll store our JSON data here\n",
    "        \n",
    "        for line in csv_lines:  # We loop over the CSV lines\n",
    "            values = line.split(',')  # We split each line into values\n",
    "            \n",
    "            # We check if the number of keys matches the number of values\n",
    "            # If not, we print a warning and skip this line\n",
    "            if len(self.keys) != len(values):\n",
    "                print(\"Warning: numbers of keys and values don't match in line:\", line)\n",
    "                continue\n",
    "            \n",
    "            # We create dictionary from keys and values using the zip function\n",
    "            data_dict = dict(zip(self.keys, values))\n",
    "            \n",
    "            # We convert dictionary to a JSON string and add it to our list\n",
    "            json_data.append(json.dumps(data_dict))\n",
    "            \n",
    "        return json_data  # We return the JSON data\n",
    "\n"
   ]
  },
  {
   "cell_type": "code",
   "execution_count": null,
   "metadata": {},
   "outputs": [],
   "source": [
    "import linecache\n",
    "\n",
    "class Reader:\n",
    "    \"\"\"This class reads a CSV file and returns JSON data.\"\"\"\n",
    "\n",
    "    def __init__(self, file_location, stride=5):\n",
    "        self.file_location = file_location\n",
    "        self.stride = stride # Number of lines to read at a time\n",
    "        self.current_line = 1  # Starting from the first line\n",
    "\n",
    "        # Instantiate CsvConverter\n",
    "        # We need to read the first line of the CSV to get the keys\n",
    "        keys_str = linecache.getline(\n",
    "            self.file_location, self.current_line).rstrip('\\n')\n",
    "        self.converter = CsvConverter(keys_str)\n",
    "\n",
    "    def get_lines(self):\n",
    "        # Get the lines from the file\n",
    "        start = self.current_line + 1\n",
    "        # We add 1 to the current line because\n",
    "        # we don't want to read the first line again\n",
    "        end = start + self.stride\n",
    "\n",
    "        lines = []\n",
    "        for i in range(start, end):\n",
    "            # We read the line and remove the \"\\n\"\n",
    "            line = linecache.getline(self.file_location, i).rstrip('\\n')\n",
    "            if line:\n",
    "                lines.append(line)\n",
    "            else:\n",
    "                break\n",
    "\n",
    "        self.current_line += len(lines)\n",
    "\n",
    "        # Convert lines to JSON\n",
    "        json_data = self.converter.csv_to_json(lines)\n",
    "        return json_data\n"
   ]
  },
  {
   "cell_type": "code",
   "execution_count": null,
   "metadata": {},
   "outputs": [],
   "source": [
    "reader = Reader('dSST.csv')\n",
    "print(reader.get_lines())\n",
    "print(reader.get_lines())\n",
    "print(reader.get_lines())\n"
   ]
  },
  {
   "attachments": {},
   "cell_type": "markdown",
   "metadata": {},
   "source": [
    "___________________"
   ]
  },
  {
   "attachments": {},
   "cell_type": "markdown",
   "metadata": {},
   "source": [
    "___________"
   ]
  },
  {
   "attachments": {},
   "cell_type": "markdown",
   "metadata": {},
   "source": [
    "# Step 2: Consuming the data"
   ]
  },
  {
   "cell_type": "code",
   "execution_count": null,
   "metadata": {},
   "outputs": [],
   "source": [
    "import pandas as pd\n",
    "import json\n",
    "\n",
    "class AverageYear:\n",
    "    '''This class calculates the average temperature anomaly per year.'''\n",
    "    def __init__(self, reader):\n",
    "        self.reader = reader \n",
    "        self.dataframe = pd.DataFrame()\n",
    "\n",
    "    def calculate_and_visualize(self):\n",
    "        '''This method calculates the average temperature anomaly per year.'''\n",
    "\n",
    "        while True: # Loop until there are no more lines\n",
    "            lines = self.reader.get_lines()\n",
    "            if not lines:\n",
    "                break\n",
    "            \n",
    "            # Convert JSON lines to dictionary and create DataFrame\n",
    "            data = [json.loads(line) for line in lines]\n",
    "            df = pd.DataFrame(data)\n",
    "            \n",
    "            # Assuming the first column is 'Year', set it as the index\n",
    "            df.set_index('Year', inplace=True)\n",
    "            \n",
    "            # Assuming the next 12 columns are 'Month', calculate their mean\n",
    "            df['Average'] = df.iloc[:, 0:12].mean(axis=1)\n",
    "            \n",
    "            # Append to the main DataFrame\n",
    "            self.dataframe = self.dataframe.append(df)\n",
    "            \n",
    "        # Display the average temperature anomaly per year\n",
    "        print(self.dataframe['Average'])\n",
    "\n",
    "\n",
    "class AverageMonth:\n",
    "    \n",
    "    def __init__(self, reader):\n",
    "        self.reader = reader\n",
    "        self.dataframe = pd.DataFrame()\n",
    "\n",
    "    def calculate_and_visualize(self):\n",
    "        while True:\n",
    "            lines = self.reader.get_lines()\n",
    "            if not lines:\n",
    "                break\n",
    "            \n",
    "            # Convert JSON lines to dictionary and create DataFrame\n",
    "            data = [json.loads(line) for line in lines]\n",
    "            df = pd.DataFrame(data)\n",
    "            print(df.head())\n",
    "            # Assuming the first column is 'Year', set it as the index\n",
    "            df.set_index('Year', inplace=True)\n",
    "            \n",
    "            # Assuming the next 12 columns are 'Month', transpose the DataFrame\n",
    "            df = df.iloc[:, 0:12].transpose()\n",
    "            \n",
    "            # Calculate the average temperature anomaly per month\n",
    "            df['Average'] = df.mean(axis=1)\n",
    "            \n",
    "            # Append to the main DataFrame\n",
    "            self.dataframe = self.dataframe.append(df)\n",
    "        \n",
    "        # Display the average temperature anomaly per month\n",
    "        print(self.dataframe['Average'])\n"
   ]
  },
  {
   "cell_type": "code",
   "execution_count": null,
   "metadata": {},
   "outputs": [],
   "source": [
    "# Pass the dataset to the Reader class\n",
    "reader = Reader('dSST.csv')\n",
    "\n",
    "# Pass the reader to the AverageYear class\n",
    "average_year = AverageYear(reader)\n",
    "\n",
    "# Call the calculate_and_visualize method\n",
    "average_year.calculate_and_visualize()\n",
    "\n",
    "reader = Reader('dSST.csv')\n",
    "\n",
    "average_month = AverageMonth(reader)\n",
    "average_month.calculate_and_visualize()\n"
   ]
  }
 ],
 "metadata": {
  "kernelspec": {
   "display_name": "Python 3",
   "language": "python",
   "name": "python3"
  },
  "language_info": {
   "codemirror_mode": {
    "name": "ipython",
    "version": 3
   },
   "file_extension": ".py",
   "mimetype": "text/x-python",
   "name": "python",
   "nbconvert_exporter": "python",
   "pygments_lexer": "ipython3",
   "version": "3.11.0"
  },
  "orig_nbformat": 4
 },
 "nbformat": 4,
 "nbformat_minor": 2
}
