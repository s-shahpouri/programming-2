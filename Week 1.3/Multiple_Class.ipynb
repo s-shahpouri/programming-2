{
 "cells": [
  {
   "cell_type": "code",
   "execution_count": null,
   "metadata": {},
   "outputs": [],
   "source": [
    "import json  # To convert dictionaries to JSON\n",
    "\n",
    "class CsvConverter:\n",
    "    \"\"\"This class converts CSV data to JSON.\"\"\"\n",
    "\n",
    "    def __init__(self, keys_str):\n",
    "        # The __init__ method runs when the class is instantiated.\n",
    "        # Here we're setting the keys of our CSV data by splitting\n",
    "        # the first line of the CSV on commas.\n",
    "        self.keys = keys_str.split(',')\n",
    "        \n",
    "    def csv_to_json(self, csv_lines):\n",
    "        # This method takes a list of CSV lines (strings)\n",
    "        # and converts them to JSON.\n",
    "        json_data = []  # We'll store our JSON data here\n",
    "        \n",
    "        for line in csv_lines:  # We loop over the CSV lines\n",
    "            values = line.split(',')  # We split each line into values\n",
    "            \n",
    "            # We check if the number of keys matches the number of values\n",
    "            # If not, we print a warning and skip this line\n",
    "            if len(self.keys) != len(values):\n",
    "                print(\"Warning: numbers of keys and values don't match in line:\", line)\n",
    "                continue\n",
    "            \n",
    "            # We create dictionary from keys and values using the zip function\n",
    "            data_dict = dict(zip(self.keys, values))\n",
    "            \n",
    "            # We convert dictionary to a JSON string and add it to our list\n",
    "            json_data.append(json.dumps(data_dict))\n",
    "            \n",
    "        return json_data  # We return the JSON data\n",
    "\n"
   ]
  },
  {
   "cell_type": "code",
   "execution_count": null,
   "metadata": {},
   "outputs": [],
   "source": [
    "import linecache\n",
    "\n",
    "class Reader:\n",
    "    \"\"\"This class reads a CSV file and returns JSON data.\"\"\"\n",
    "\n",
    "    def __init__(self, file_location, stride=5):\n",
    "        self.file_location = file_location\n",
    "        self.stride = stride # Number of lines to read at a time\n",
    "        self.current_line = 1  # Starting from the first line\n",
    "\n",
    "        # Instantiate CsvConverter\n",
    "        # We need to read the first line of the CSV to get the keys\n",
    "        keys_str = linecache.getline(\n",
    "            self.file_location, self.current_line).rstrip('\\n')\n",
    "        self.converter = CsvConverter(keys_str)\n",
    "\n",
    "    def get_lines(self):\n",
    "        # Get the lines from the file\n",
    "        start = self.current_line + 1\n",
    "        # We add 1 to the current line because\n",
    "        # we don't want to read the first line again\n",
    "        end = start + self.stride\n",
    "\n",
    "        lines = []\n",
    "        for i in range(start, end):\n",
    "            # We read the line and remove the \"\\n\"\n",
    "            line = linecache.getline(self.file_location, i).rstrip('\\n')\n",
    "            if line:\n",
    "                lines.append(line)\n",
    "            else:\n",
    "                break\n",
    "\n",
    "        self.current_line += len(lines)\n",
    "\n",
    "        # Convert lines to JSON\n",
    "        json_data = self.converter.csv_to_json(lines)\n",
    "        return json_data\n"
   ]
  },
  {
   "cell_type": "code",
   "execution_count": null,
   "metadata": {},
   "outputs": [],
   "source": [
    "reader = Reader('dSST.csv')\n",
    "print(reader.get_lines())\n",
    "print(reader.get_lines())\n",
    "print(reader.get_lines())\n"
   ]
  }
 ],
 "metadata": {
  "kernelspec": {
   "display_name": "Python 3",
   "language": "python",
   "name": "python3"
  },
  "language_info": {
   "codemirror_mode": {
    "name": "ipython",
    "version": 3
   },
   "file_extension": ".py",
   "mimetype": "text/x-python",
   "name": "python",
   "nbconvert_exporter": "python",
   "pygments_lexer": "ipython3",
   "version": "3.11.0"
  },
  "orig_nbformat": 4
 },
 "nbformat": 4,
 "nbformat_minor": 2
}
