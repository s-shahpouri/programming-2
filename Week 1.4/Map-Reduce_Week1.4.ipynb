{
 "cells": [
  {
   "attachments": {},
   "cell_type": "markdown",
   "metadata": {},
   "source": [
    "The answer of Chat-GPT to the best time and worth (I think you mean 'worst time' here?) time for using list comprehension:"
   ]
  },
  {
   "attachments": {},
   "cell_type": "markdown",
   "metadata": {},
   "source": [
    "List comprehensions are a powerful feature of Python, providing a concise way to create lists based on existing lists. However, like all language features, they have their best use cases and situations where other constructs might be more appropriate.\n"
   ]
  },
  {
   "attachments": {},
   "cell_type": "markdown",
   "metadata": {},
   "source": [
    "\n",
    "Ideal cases for using list comprehension:\n",
    "\n",
    "### 1- Simple transformations:\n",
    "List comprehensions shine when you need to apply a simple transformation to every element in a list.\n"
   ]
  },
  {
   "cell_type": "code",
   "execution_count": null,
   "metadata": {},
   "outputs": [],
   "source": [
    "squares = [x**2 for x in range(10)]\n"
   ]
  },
  {
   "attachments": {},
   "cell_type": "markdown",
   "metadata": {},
   "source": [
    "### 2- Filtering list elements:\n",
    "List comprehensions can filter a list to only include elements that satisfy specific conditions."
   ]
  },
  {
   "cell_type": "code",
   "execution_count": null,
   "metadata": {},
   "outputs": [],
   "source": [
    "even_numbers = [x for x in range(10) if x % 2 == 0]\n"
   ]
  },
  {
   "attachments": {},
   "cell_type": "markdown",
   "metadata": {},
   "source": [
    "### 3- Flattening a list within a list: "
   ]
  },
  {
   "cell_type": "code",
   "execution_count": null,
   "metadata": {},
   "outputs": [],
   "source": [
    "nested_list = [[1, 2, 3], [4, 5, 6], [7, 8, 9]]\n",
    "flat_list = [item for sublist in nested_list for item in sublist]\n"
   ]
  },
  {
   "attachments": {},
   "cell_type": "markdown",
   "metadata": {},
   "source": [
    "-------"
   ]
  },
  {
   "attachments": {},
   "cell_type": "markdown",
   "metadata": {},
   "source": [
    "Scenarios where list comprehension might not be optimal:\n",
    "\n"
   ]
  },
  {
   "attachments": {},
   "cell_type": "markdown",
   "metadata": {},
   "source": [
    "\n",
    "### 1- Complex transformations:\n",
    "\n",
    "If the transformation function is complex or involves multiple steps, a full-fledged for loop might be a better choice as it can improve readability.\n",
    "\n",
    "### 2- Long list comprehensions:\n",
    "\n",
    "If our list comprehension spans multiple lines, it might be better to use a regular for loop. A rule of thumb is that if it doesn't easily fit on one line, a list comprehension might not be the best option.\n",
    "\n",
    "### 3- Memory-intensive operations:\n",
    "\n",
    "List comprehensions generate a new list in memory. If we're working with a large data set and only need to process one element at a time, a generator expression (using () instead of []) or a for loop might be a better choice to save memory.\n",
    "\n",
    "### 4- Mutating elements:\n",
    "\n",
    "If we need to modify the list you're iterating over, a list comprehension is not the right tool. We should use a regular for loop instead.\n"
   ]
  },
  {
   "attachments": {},
   "cell_type": "markdown",
   "metadata": {},
   "source": [
    "-----------"
   ]
  },
  {
   "cell_type": "code",
   "execution_count": null,
   "metadata": {},
   "outputs": [],
   "source": [
    "import numpy as np\n",
    "\n",
    "class AverageYear:\n",
    "    ''' Calculate the average temperature per year and visualize it.'''\n",
    "    def __init__(self, reader, converter):\n",
    "        self.reader = reader\n",
    "        self.converter = converter\n",
    "\n",
    "    def calculate_and_visualize(self):\n",
    "        data = self.reader.read()\n",
    "        converted_data = [self.converter.convert(row) for row in data]\n",
    "        average_temperatures = [np.mean(row['Value']) for row in converted_data]\n",
    "\n",
    "\n",
    "\n",
    "class AverageMonth:\n",
    "    ''' Calculate the average temperature per month and visualize it.'''\n",
    "    def __init__(self, reader, converter):\n",
    "        self.reader = reader\n",
    "        self.converter = converter\n",
    "\n",
    "    def calculate_and_visualize(self):\n",
    "        data = self.reader.read()\n",
    "        converted_data = [self.converter.convert(row) for row in data]\n",
    "        average_temperatures = [\n",
    "            [np.mean(row['Value']) for row in month_data] for month_data in converted_data]"
   ]
  },
  {
   "attachments": {},
   "cell_type": "markdown",
   "metadata": {},
   "source": [
    "------"
   ]
  },
  {
   "attachments": {},
   "cell_type": "markdown",
   "metadata": {},
   "source": [
    "# Exercise 3: refactoring other people's code."
   ]
  },
  {
   "cell_type": "code",
   "execution_count": null,
   "metadata": {},
   "outputs": [],
   "source": [
    "# The refactoring is actually done in another file. Confusing.\n",
    "\n",
    "import urllib.request, urllib.parse, urllib.error\n",
    "from bs4 import BeautifulSoup\n",
    "import ssl\n",
    "import re\n",
    "\n",
    "class Crawler:\n",
    "\n",
    "    def __init__(self):\n",
    "        self.url = \"https://sport050.nl/sportaanbieders/alle-aanbieders/\"\n",
    "\n",
    "    def hack_ssl(self):\n",
    "        \"\"\" ignores the certificate errors\"\"\"\n",
    "        ctx = ssl.create_default_context()\n",
    "        ctx.check_hostname = False\n",
    "        ctx.verify_mode = ssl.CERT_NONE\n",
    "        return ctx\n",
    "\n",
    "    def open_url(self, url):\n",
    "        \"\"\" reads url file as a big string and cleans the html file to make it\n",
    "            more readable. input: url, output: soup object\n",
    "        \"\"\"\n",
    "        ctx = self.hack_ssl()\n",
    "        html = urllib.request.urlopen(url, context=ctx).read()\n",
    "        soup = BeautifulSoup(html, 'html.parser')\n",
    "        return soup\n",
    "\n",
    "    def read_hrefs(self, soup):\n",
    "        \"\"\" get from soup object a list of anchor tags,\n",
    "            get the href keys and and prints them. Input: soup object\n",
    "        \"\"\"\n",
    "        reflist = []\n",
    "        tags = soup('a')\n",
    "        for tag in tags:\n",
    "            reflist.append(tag)\n",
    "        return reflist\n",
    "\n",
    "    # Other methods go here with 'self' added...\n",
    "\n",
    "    def crawl_site(self):\n",
    "        print ('fetch urls')\n",
    "        s = self.open_url(self.url)\n",
    "        reflist = self.read_hrefs(s)\n",
    "\n",
    "        print ('getting sub-urls')\n",
    "        sub_urls = [s for s in filter(lambda x: '<a href=\"/sportaanbieders' in str(x), reflist)]\n",
    "        sub_urls = sub_urls[3:]\n",
    "\n",
    "        print ('extracting the data')\n",
    "        print (f'{len(sub_urls)} sub-urls')\n",
    "\n",
    "        for sub in sub_urls:\n",
    "            try:\n",
    "                sub = self.extract(sub)\n",
    "                site = self.url[:-16] + sub\n",
    "                soup = self.open_url(site)    \n",
    "                info = self.fetch_sidebar(soup)\n",
    "                info = self.read_li(info)\n",
    "                phone = self.get_phone(info)\n",
    "                phone = self.remove_html_tags(phone).strip()\n",
    "                email = self.get_email(info)\n",
    "                email = self.remove_html_tags(email).replace(\"/\",\"\")\n",
    "                print (f'{site} ; {phone} ; {email}')\n",
    "            except Exception as e:\n",
    "                print (e)\n",
    "                exit()\n"
   ]
  },
  {
   "cell_type": "code",
   "execution_count": null,
   "metadata": {},
   "outputs": [],
   "source": [
    "def main():\n",
    "    crawler = Crawler()\n",
    "    crawler.crawl_site()\n",
    "\n",
    "if __name__ == '__main__':\n",
    "    main()\n"
   ]
  }
 ],
 "metadata": {
  "kernelspec": {
   "display_name": "Python 3",
   "language": "python",
   "name": "python3"
  },
  "language_info": {
   "codemirror_mode": {
    "name": "ipython",
    "version": 3
   },
   "file_extension": ".py",
   "mimetype": "text/x-python",
   "name": "python",
   "nbconvert_exporter": "python",
   "pygments_lexer": "ipython3",
   "version": "3.11.0"
  },
  "orig_nbformat": 4
 },
 "nbformat": 4,
 "nbformat_minor": 2
}
