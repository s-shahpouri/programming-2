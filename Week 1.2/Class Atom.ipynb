{
 "cells": [
  {
   "attachments": {},
   "cell_type": "markdown",
   "metadata": {},
   "source": [
    "# Assignment 1: the Atom class\n",
    "1a.  Create a **class Atom**  that is a representation of any atom in the periodic table. Make sure that when a concrete atom is instantiated, it is given its symbol, its atomic number and the number of neutrons in the core. Store those parameters in the created object.\n",
    "\n",
    "1b.  Create a method proton_number that returns the number of protons in the nucleus; make another method mass_number that returns the sum of protons and neutrons in the nucleus.\n",
    "\n",
    "1c.    Create a method isotope in the class Atom. When this method is called, the normal number of neutrons must be replaced by whatever number is provided to this method.\n",
    "\n",
    "1d.    We define an atom A to be less than another atom B if their proton number is the same (i.e. it is the same element) but the mass number of A is less than the mass number of B. Implement the methods that checks whether two isotopes of the same element are equal to each other, or less than or greater than each other. Raise an exception when the check is called with different types of elements."
   ]
  },
  {
   "attachments": {},
   "cell_type": "markdown",
   "metadata": {},
   "source": [
    "--------"
   ]
  },
  {
   "attachments": {},
   "cell_type": "markdown",
   "metadata": {},
   "source": [
    "* In this script, the Atom class includes the properties of symbol, atomic_number, and neutrons.\n",
    "* Additionally, it has methods for calculating proton_number, mass_number, and modifying the neutrons number for isotopes.\n",
    "* It also implements the comparison methods for checking equality and comparing atoms based on their mass number.\n",
    "* The final try-except block is used to handle exceptions that are raised when comparing atoms of different elements."
   ]
  },
  {
   "cell_type": "code",
   "execution_count": null,
   "metadata": {},
   "outputs": [],
   "source": [
    "class Atom:\n",
    "    '''A representation of any atom in the periodic table'''\n",
    "\n",
    "    # The constructor method\n",
    "    def __init__(self, symbol, atomic_number, neutrons):\n",
    "\n",
    "        # Initialize instance variables\n",
    "        self.symbol = symbol\n",
    "        self.atomic_number = atomic_number\n",
    "        self.neutrons = neutrons\n",
    "\n",
    "    # Method to return the number of protons\n",
    "    def proton_number(self):\n",
    "        return self.atomic_number\n",
    "    \n",
    "    # Method to calculate the mass number\n",
    "    def mass_number(self):\n",
    "        return self.neutrons + self.atomic_number\n",
    "    \n",
    "    # Method to change the number of neutrons for creating an isotope\n",
    "    def isotope(self, value):\n",
    "        self.neutrons = value\n",
    "\n",
    "    # Magicak method to compare equality between two atoms\n",
    "    def __eq__(self, other):\n",
    "        # Check if the atoms are of the same type\n",
    "        if self.symbol != other.symbol:\n",
    "            raise Exception(\"Different element types!\")\n",
    "        # If same type, then, compare mass numbers\n",
    "        else:\n",
    "            return self.mass_number() == other.mass_number()\n",
    "\n",
    "    # Magical method to compare if one atom is less than another\n",
    "    def __lt__(self, other):\n",
    "        '''__lt__ returns ?'''\n",
    "        if not self.symbol == other.symbol:\n",
    "            raise Exception(\"Cannot compare two different atoms!\")\n",
    "        elif self.atomic_number != other.atomic_number:\n",
    "            raise Exception(\"Can only compare isotopes of the same element.\")\n",
    "        \n",
    "        else:\n",
    "            return self.mass_number() < other.mass_number()\n",
    "\n",
    "    # Magical method to compare if one atom is less or equal to the another\n",
    "    def __le__(self, other):\n",
    "        ''' __le__ returns the result of __lt__ or __eq__,\n",
    "        which means \"less than or equal to\".'''\n",
    "        return self.__lt__(other) or self.__eq__(other)\n",
    "\n",
    "    # Magical method to compare if one atom is greater than another\n",
    "    def __gt__(self, other):\n",
    "        \n",
    "        return not (self.__lt__(other) or self.__eq__(other))\n",
    "\n",
    "    # Magical method to compare if one atom is greater or equal to the another\n",
    "    def __ge__(self, other):\n",
    "        ''' __ge__ returns the negation of __lt__,\n",
    "         which means \"not less than\"'''\n",
    "        return not self.__lt__(other)\n",
    "    "
   ]
  },
  {
   "attachments": {},
   "cell_type": "markdown",
   "metadata": {},
   "source": [
    "## Testing the implementation"
   ]
  },
  {
   "cell_type": "code",
   "execution_count": null,
   "metadata": {},
   "outputs": [],
   "source": [
    "# Create some atom instance.\n",
    "protium = Atom('H', 1, 1)\n",
    "deuterium = Atom('H', 1, 2)\n",
    "oxygen = Atom('O', 8, 8)\n",
    "tritium = Atom('H', 1, 2)\n",
    "tritium.isotope(3)\n",
    "\n",
    "# Check (assert) them.\n",
    "assert tritium.neutrons == 3\n",
    "assert tritium.mass_number() == 4\n",
    "assert protium < deuterium\n",
    "assert deuterium <= tritium\n",
    "assert tritium >= protium\n"
   ]
  },
  {
   "cell_type": "code",
   "execution_count": null,
   "metadata": {},
   "outputs": [],
   "source": [
    "try:\n",
    "    print(oxygen > tritium)  # <-- this should raise an Exception\n",
    "except Exception as e:\n",
    "    print(e)"
   ]
  },
  {
   "cell_type": "code",
   "execution_count": null,
   "metadata": {},
   "outputs": [],
   "source": [
    "try:\n",
    "    print(protium < deuterium)\n",
    "except Exception as e:\n",
    "    print(e)"
   ]
  },
  {
   "cell_type": "code",
   "execution_count": null,
   "metadata": {},
   "outputs": [],
   "source": [
    "protium < deuterium"
   ]
  },
  {
   "attachments": {},
   "cell_type": "markdown",
   "metadata": {},
   "source": [
    "--------------"
   ]
  },
  {
   "attachments": {},
   "cell_type": "markdown",
   "metadata": {},
   "source": [
    "----------"
   ]
  },
  {
   "attachments": {},
   "cell_type": "markdown",
   "metadata": {},
   "source": [
    "The **Molecule class**:\n",
    "* accepts a list of tuples where each tuple contains an Atom object and a count of how many of that atom are in the molecule.\n",
    "* The __str__ method returns a string that represents the molecule. It omits the count if it is 1.\n",
    "* The __add__ method returns a new Molecule object that includes all of the atoms of the two molecules being added together."
   ]
  },
  {
   "cell_type": "code",
   "execution_count": null,
   "metadata": {},
   "outputs": [],
   "source": [
    "class Molecule:\n",
    "    '''accepts a list of tuples where each tuple contains an Atom object\n",
    "    and a count of how many of that atom are in the molecule.'''\n",
    "    def __init__(self, atoms):\n",
    "        self.atoms = atoms\n",
    "\n",
    "    def __str__(self):\n",
    "        # Generate a string that represents the molecule\n",
    "        # If the count of the atom type is 1, don't include it in the string\n",
    "        return ''.join([f'{atom.symbol}{count if count > 1 else \"\"}' for atom, count in self.atoms])\n",
    "\n",
    "    def __add__(self, other):\n",
    "        # Combining atoms of both molecules\n",
    "        new_atoms = self.atoms + other.atoms\n",
    "        return Molecule(new_atoms)\n"
   ]
  },
  {
   "attachments": {},
   "cell_type": "markdown",
   "metadata": {},
   "source": [
    "To test Molecule class we create a few atoms and some simple molecules."
   ]
  },
  {
   "cell_type": "code",
   "execution_count": null,
   "metadata": {},
   "outputs": [],
   "source": [
    "\n",
    "# Create atoms\n",
    "hydrogen = Atom('H', 1, 1)\n",
    "carbon = Atom('C', 6, 6)\n",
    "oxygen = Atom('O', 8, 8)\n",
    "\n",
    "# Create molecules\n",
    "water = Molecule([(hydrogen, 2), (oxygen, 1)])\n",
    "co2 = Molecule([(carbon, 1), (oxygen, 2)])\n"
   ]
  },
  {
   "attachments": {},
   "cell_type": "markdown",
   "metadata": {},
   "source": [
    "This is how the class shows molecules:"
   ]
  },
  {
   "cell_type": "code",
   "execution_count": null,
   "metadata": {},
   "outputs": [],
   "source": [
    "# Display molecules\n",
    "print(f'The scientific sign for water is: ', water)\n",
    "print(f'The scientific sign for Carbon Dioxide is: ',co2)\n",
    "\n",
    "# Create and display a new molecule by adding water and co2\n",
    "print(f'In combination of water and Carbon Dioxide: ', water + co2)  # H2OCO2"
   ]
  },
  {
   "cell_type": "code",
   "execution_count": null,
   "metadata": {},
   "outputs": [],
   "source": [
    "class Chloroplast:\n",
    "    \"\"\"Represents a simplified model of a chloroplast.\"\"\"\n",
    "    def __init__(self):\n",
    "        self.water = 0\n",
    "        self.co2 = 0\n",
    "\n",
    "    def __str__(self):\n",
    "        return f\"Water molecules: {self.water}, CO2 molecules: {self.co2}\"\n",
    "\n",
    "    def add_molecule(self, molecule, quantity):\n",
    "        \"\"\"\n",
    "        Adds a molecule to the chloroplast.\n",
    "        Returns a list of products when photosynthesis occurs.\n",
    "        \"\"\"\n",
    "        if str(molecule) == \"H2O\":\n",
    "            self.water += quantity\n",
    "        elif str(molecule) == \"CO2\":\n",
    "            self.co2 += quantity\n",
    "        else:\n",
    "            raise ValueError(\"Only water and carbon dioxide can be added!\")\n",
    "\n",
    "        if self.water >= 12 and self.co2 >= 6:\n",
    "            self.water -= 12\n",
    "            self.co2 -= 6\n",
    "\n",
    "            hydrogen = Atom('H', 1, 1)\n",
    "            oxygen = Atom('O', 8, 8)\n",
    "            carbon = Atom('C', 6, 6)\n",
    "\n",
    "            sugar = Molecule([(carbon, 6), (hydrogen, 12), (oxygen, 6)])\n",
    "            oxygen_gas = Molecule([(oxygen, 2)])\n",
    "\n",
    "            return [(sugar, 1), (oxygen_gas, 6)]\n",
    "        else:\n",
    "            return []"
   ]
  },
  {
   "cell_type": "code",
   "execution_count": null,
   "metadata": {},
   "outputs": [],
   "source": [
    "while (True):\n",
    "    print ('\\nWhat molecule would you like to add?')\n",
    "    print ('[1] Water')\n",
    "    print ('[2] Carbondioxyde')\n",
    "    print ('[3] Exit')\n",
    "    print ('Please enter your choice: ', end='')\n",
    "    try:\n",
    "        choice = int(input())\n",
    "        if choice == 3:\n",
    "            break\n",
    "        print ('How many molecules would you like to add? ', end='')\n",
    "        quantity = int(input())\n",
    "        res = demo.add_molecule(els[choice-1], quantity)\n",
    "        if (len(res)==0):\n",
    "            print (demo)\n",
    "        else:\n",
    "            print ('\\n=== Photosynthesis!')\n",
    "            for molecule, quantity in res:\n",
    "                print(f\"Produced {quantity} molecule(s) of {molecule}\")\n",
    "            print (demo)\n",
    "    except Exception as e:\n",
    "        print ('\\n=== That is not a valid choice.')\n",
    "        print(e)\n"
   ]
  },
  {
   "attachments": {},
   "cell_type": "markdown",
   "metadata": {},
   "source": [
    "What molecule would you like to add?\n",
    "\n",
    "[1] Water\n",
    "\n",
    "[2] Carbondioxyde\n",
    "\n",
    "[3] Exit\n",
    "\n",
    "Please enter your choice: How many molecules would you like to add? \n",
    "\n",
    "=== Photosynthesis!\n",
    "\n",
    "Produced 1 molecule(s) of C6H12O6\n",
    "\n",
    "Produced 6 molecule(s) of O2\n",
    "\n",
    "Water molecules: 0, CO2 molecules: 26\n",
    "\n",
    "\n",
    "What molecule would you like to add?\n",
    "\n",
    "[1] Water\n",
    "\n",
    "[2] Carbondioxyde\n",
    "\n",
    "[3] Exit\n",
    "\n",
    "Please enter your choice: How many molecules would you like to add? Water molecules: 0, CO2 molecules: 46\n",
    "\n",
    "\n",
    "What molecule would you like to add?\n",
    "\n",
    "[1] Water\n",
    "\n",
    "[2] Carbondioxyde\n",
    "\n",
    "[3] Exit\n",
    "\n",
    "Please enter your choice:"
   ]
  }
 ],
 "metadata": {
  "kernelspec": {
   "display_name": "Python 3",
   "language": "python",
   "name": "python3"
  },
  "language_info": {
   "codemirror_mode": {
    "name": "ipython",
    "version": 3
   },
   "file_extension": ".py",
   "mimetype": "text/x-python",
   "name": "python",
   "nbconvert_exporter": "python",
   "pygments_lexer": "ipython3",
   "version": "3.11.0"
  },
  "orig_nbformat": 4
 },
 "nbformat": 4,
 "nbformat_minor": 2
}
