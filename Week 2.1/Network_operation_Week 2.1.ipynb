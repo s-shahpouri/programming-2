{
 "cells": [
  {
   "attachments": {},
   "cell_type": "markdown",
   "metadata": {},
   "source": [
    "# Network operations"
   ]
  },
  {
   "cell_type": "markdown",
   "metadata": {},
   "source": [
    "I don't see the added value of this Notebook in this particular case."
   ]
  },
  {
   "cell_type": "code",
   "execution_count": null,
   "metadata": {},
   "outputs": [],
   "source": [
    "from http.server import SimpleHTTPRequestHandler\n",
    "import socketserver\n",
    "import pandas as pd\n"
   ]
  },
  {
   "attachments": {},
   "cell_type": "markdown",
   "metadata": {},
   "source": [
    "\n",
    "## Step 1: Check the request\n"
   ]
  },
  {
   "cell_type": "code",
   "execution_count": null,
   "metadata": {},
   "outputs": [],
   "source": [
    "class DataProvider:\n",
    "    '''This class reads the data from the csv file\n",
    "    and provides the data in json format.'''\n",
    "\n",
    "    def __init__(self, file_path):\n",
    "        '''Reads the file'''\n",
    "        self.data = pd.read_csv(file_path)\n",
    "        print(self.data.columns)\n",
    "\n",
    "    def get_data(self, Year):\n",
    "        '''Returns the data in json format for the given Year or range or 'all'''\n",
    "\n",
    "        if Year == 'all':\n",
    "            return self.data.to_json()\n",
    "\n",
    "        elif isinstance(Year, int):\n",
    "            data_of_year = self.data[self.data['Year'] == Year]\n",
    "\n",
    "            if not data_of_year.empty:\n",
    "                return data_of_year.to_json()\n",
    "            else:\n",
    "                raise ValueError('No data available for the requested Year.')\n",
    "        elif isinstance(Year, list) and len(Year) == 2:\n",
    "            data_range = self.data[(self.data['Year'] >= Year[0]) & (\n",
    "                self.data['Year'] <= Year[1])]\n",
    "\n",
    "            if not data_range.empty:\n",
    "                return data_range.to_json()\n",
    "            else:\n",
    "                raise ValueError('No data available for the requested range.')\n",
    "        else:\n",
    "            raise ValueError('Invalid input parameter.')\n",
    "\n"
   ]
  },
  {
   "attachments": {},
   "cell_type": "markdown",
   "metadata": {},
   "source": [
    "## step 2: create the data-provider"
   ]
  },
  {
   "cell_type": "code",
   "execution_count": null,
   "metadata": {},
   "outputs": [],
   "source": [
    "class ServerHandler(SimpleHTTPRequestHandler):\n",
    "    ''''This class handles the http requests and sends the response'''\n",
    "    data_provider = DataProvider('dSST.csv')\n",
    "\n",
    "    def do_GET(self):\n",
    "        '''Handles the GET request and sends the response'''\n",
    "        if not self.path.startswith('/data'):\n",
    "            self.send_error(404, 'Not found')\n",
    "            return\n",
    "\n",
    "        # extract Year or range or 'all' from the request path\n",
    "        Year = self.path[6:]\n",
    "\n",
    "        try:\n",
    "            '''Get the data for the given Year or range or 'all' and send the response'''\n",
    "            if Year == 'all':\n",
    "                data = self.data_provider.get_data('all')\n",
    "            elif Year.isdigit():\n",
    "                data = self.data_provider.get_data(int(Year))\n",
    "            elif '-' in Year:\n",
    "                from_Year, to_Year = map(int, Year.split('-'))\n",
    "                data = self.data_provider.get_data([from_Year, to_Year])\n",
    "            else:\n",
    "                self.send_error(\n",
    "                    400, 'Bad Request: Invalid Year or range format')\n",
    "                return\n",
    "\n",
    "            # send the response\n",
    "            self.send_response(200)\n",
    "            self.send_header('Content-type', 'application/json')\n",
    "            self.end_headers()\n",
    "            self.wfile.write(bytes(data, 'utf-8'))\n",
    "\n",
    "        except ValueError as e:\n",
    "            # send the error response\n",
    "            self.send_error(400, 'Bad Request: ' + str(e))\n",
    "\n"
   ]
  },
  {
   "cell_type": "code",
   "execution_count": null,
   "metadata": {},
   "outputs": [],
   "source": [
    "PORT = 8080\n",
    "\n",
    "# Create an object of the above class\n",
    "http = socketserver.TCPServer((\"\", PORT), ServerHandler)\n",
    "\n",
    "# Start the server\n",
    "print(\"serving at port\", PORT)\n",
    "http.serve_forever()\n"
   ]
  },
  {
   "attachments": {},
   "cell_type": "markdown",
   "metadata": {},
   "source": [
    "For runn the server we should use these links:"
   ]
  },
  {
   "attachments": {},
   "cell_type": "markdown",
   "metadata": {},
   "source": [
    "### To see all the data\n",
    "http://localhost:8080/data/all\n",
    "\n",
    "### To see data for specific year\n",
    "http://localhost:8080/data/{year}\n",
    "\n",
    "### For instance for 2020:\n",
    "http://localhost:8080/data/2020\n",
    "\n",
    "\n",
    "### To see data for a duration\n",
    "http://localhost:8080/data/{from-year}/{to-year)"
   ]
  }
 ],
 "metadata": {
  "kernelspec": {
   "display_name": "base",
   "language": "python",
   "name": "python3"
  },
  "language_info": {
   "codemirror_mode": {
    "name": "ipython",
    "version": 3
   },
   "file_extension": ".py",
   "mimetype": "text/x-python",
   "name": "python",
   "nbconvert_exporter": "python",
   "pygments_lexer": "ipython3",
   "version": "3.11.0"
  },
  "orig_nbformat": 4
 },
 "nbformat": 4,
 "nbformat_minor": 2
}
