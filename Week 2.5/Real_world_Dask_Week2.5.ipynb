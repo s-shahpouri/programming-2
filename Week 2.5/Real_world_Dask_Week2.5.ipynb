{
 "cells": [
  {
   "attachments": {},
   "cell_type": "markdown",
   "metadata": {},
   "source": [
    "Read the InterPROscan output file.\n"
   ]
  },
  {
   "cell_type": "code",
   "execution_count": null,
   "metadata": {},
   "outputs": [],
   "source": [
    "import dask.dataframe as dd\n",
    "import dask.array as da\n",
    "import numpy as np\n",
    "\n",
    "\n",
    "def load_dataframe(file_path):\n",
    "    df = dd.read_csv(file_path, delimiter=\"\\t\", dtype=str, header=None, names=list(str(range(15))))\n",
    "    return df\n",
    "\n"
   ]
  },
  {
   "cell_type": "code",
   "execution_count": null,
   "metadata": {},
   "outputs": [],
   "source": [
    "\n",
    "# Load the DataFrame\n",
    "file_path = '/data/dataprocessing/interproscan/all_bacilli.tsv'\n",
    "df = load_dataframe(file_path)\n",
    "num_wk = 16"
   ]
  },
  {
   "cell_type": "code",
   "execution_count": null,
   "metadata": {},
   "outputs": [],
   "source": [
    "## How many distinct protein annotations are found in the dataset?\n"
   ]
  },
  {
   "cell_type": "code",
   "execution_count": null,
   "metadata": {},
   "outputs": [],
   "source": [
    "\n",
    "distinct_protein_annotations = df['11'].nunique().compute(num_workers=num_wk)\n",
    "print(\"Number of distinct protein annotations:\", distinct_protein_annotations)\n"
   ]
  },
  {
   "cell_type": "code",
   "execution_count": null,
   "metadata": {},
   "outputs": [],
   "source": [
    "\n",
    "## How many annotations does a protein have on average?\n"
   ]
  },
  {
   "cell_type": "code",
   "execution_count": null,
   "metadata": {},
   "outputs": [],
   "source": [
    "\n",
    "average_annotations_for_protein = df.groupby('0')['IPR022291'].count().mean().compute(num_workers=num_wk)\n",
    "print(\"Average number of annotations per protein:\", average_annotations_for_protein)\n"
   ]
  },
  {
   "cell_type": "code",
   "execution_count": null,
   "metadata": {},
   "outputs": [],
   "source": [
    "\n",
    "## What is the most common GO Term found?\n"
   ]
  },
  {
   "cell_type": "code",
   "execution_count": null,
   "metadata": {},
   "outputs": [],
   "source": [
    "\n",
    "go_terms = df['0'].str.split('|').explode(num_worker=16)\n",
    "most_frequent_go_term = go_terms.value_counts().nlargest(1).compute(num_workers=num_wk).index[0] \n",
    "print(\"Most common GO Term:\", most_frequent_go_term)\n"
   ]
  },
  {
   "cell_type": "code",
   "execution_count": null,
   "metadata": {},
   "outputs": [],
   "source": [
    "\n",
    "## What is the average size of an InterPRO feature found in the dataset?\n"
   ]
  },
  {
   "cell_type": "code",
   "execution_count": null,
   "metadata": {},
   "outputs": [],
   "source": [
    "\n",
    "df['FeatureSize'] = df['7'].astype(int) - df['6'].astype(int)\n",
    "average_size_of_interpro_feature = df['FeatureSize'].mean().compute(num_workers=num_wk)\n",
    "print(\"Average size of InterPRO feature:\", average_size_of_interpro_feature)\n"
   ]
  },
  {
   "cell_type": "code",
   "execution_count": null,
   "metadata": {},
   "outputs": [],
   "source": [
    "\n",
    "## What is the top 10 most common InterPRO features?\n"
   ]
  },
  {
   "cell_type": "code",
   "execution_count": null,
   "metadata": {},
   "outputs": [],
   "source": [
    "\n",
    "top_10_frequent_interpro_features = df['1'].value_counts().nlargest(10).compute(num_workers=num_wk)\n",
    "print(\"Top 10 most common InterPRO features:\", top_10_frequent_interpro_features) \n"
   ]
  },
  {
   "cell_type": "code",
   "execution_count": null,
   "metadata": {},
   "outputs": [],
   "source": [
    "\n",
    "## If you select InterPRO features that are almost the same size (within 90-100%) as the protein itself, what is the top 10 then?\n"
   ]
  },
  {
   "cell_type": "code",
   "execution_count": null,
   "metadata": {},
   "outputs": [],
   "source": [
    "\n",
    "protein_length = df['2'].astype(int) \n",
    "selected_features = df[abs(df['FeatureSize'] - protein_length) / protein_length <= 0.9] \n",
    "top_10_frequent_selected_features = selected_features['1'].value_counts().nlargest(10).compute(num_workers=num_wk)\n",
    "print(\"Top 10 most common selected InterPRO features:\", top_10_frequent_selected_features) \n"
   ]
  },
  {
   "cell_type": "code",
   "execution_count": null,
   "metadata": {},
   "outputs": [],
   "source": [
    "\n",
    "## If you look at those features which also have textual annotation, what is the top 10 most common word found in that annotation?\n"
   ]
  },
  {
   "cell_type": "code",
   "execution_count": null,
   "metadata": {},
   "outputs": [],
   "source": [
    "\n",
    "features_with_text = df[df['4'].notnull()]['5']\n",
    "top_10_common_words_in_text = features_with_text.str.split().explode().value_counts().nlargest(10).compute(num_workers=num_wk)\n",
    "print(\"Top 10 most common words in annotation:\", top_10_common_words_in_text) \n"
   ]
  },
  {
   "cell_type": "code",
   "execution_count": null,
   "metadata": {},
   "outputs": [],
   "source": [
    "\n",
    "## And the top 10 least common?\n"
   ]
  },
  {
   "cell_type": "code",
   "execution_count": null,
   "metadata": {},
   "outputs": [],
   "source": [
    "\n",
    "features_with_text = df[df['4'].notnull()]['5']\n",
    "top_10_least_common_words_in_text = features_with_text.str.split().explode().value_counts().tail(10) \n",
    "print(\"Top 10 least common words in annotation:\", top_10_least_common_words_in_text) \n"
   ]
  },
  {
   "cell_type": "code",
   "execution_count": null,
   "metadata": {},
   "outputs": [],
   "source": [
    "\n",
    "## What is the coefficient of correlation between the size of the protein and the number of features found? \n"
   ]
  },
  {
   "cell_type": "code",
   "execution_count": null,
   "metadata": {},
   "outputs": [],
   "source": [
    "\n",
    "coefficient_of_correlation = df['2'].astype(int).corr(df['7'].astype(int) - df['6'].astype(int)) \n",
    "protein_feature_correlation = coefficient_of_correlation.compute(num_worker=16)\n",
    "print(\"Correlation coefficient between protein size and number of features:\", protein_feature_correlation)\n"
   ]
  }
 ],
 "metadata": {
  "kernelspec": {
   "display_name": "Python 3",
   "language": "python",
   "name": "python3"
  },
  "language_info": {
   "codemirror_mode": {
    "name": "ipython",
    "version": 3
   },
   "file_extension": ".py",
   "mimetype": "text/x-python",
   "name": "python",
   "nbconvert_exporter": "python",
   "pygments_lexer": "ipython3",
   "version": "3.11.0"
  },
  "orig_nbformat": 4
 },
 "nbformat": 4,
 "nbformat_minor": 2
}
