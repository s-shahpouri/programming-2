{
 "cells": [
  {
   "attachments": {},
   "cell_type": "markdown",
   "metadata": {},
   "source": [
    "# Assignment 1: the Atom class\n",
    "1a.  Create a **class Atom**  that is a representation of any atom in the periodic table. Make sure that when a concrete atom is instantiated, it is given its symbol, its atomic number and the number of neutrons in the core. Store those parameters in the created object.\n",
    "\n",
    "1b.  Create a method proton_number that returns the number of protons in the nucleus; make another method mass_number that returns the sum of protons and neutrons in the nucleus.\n",
    "\n",
    "1c.    Create a method isotope in the class Atom. When this method is called, the normal number of neutrons must be replaced by whatever number is provided to this method.\n",
    "\n",
    "1d.    We define an atom A to be less than another atom B if their proton number is the same (i.e. it is the same element) but the mass number of A is less than the mass number of B. Implement the methods that checks whether two isotopes of the same element are equal to each other, or less than or greater than each other. Raise an exception when the check is called with different types of elements."
   ]
  },
  {
   "attachments": {},
   "cell_type": "markdown",
   "metadata": {},
   "source": [
    "--------"
   ]
  },
  {
   "attachments": {},
   "cell_type": "markdown",
   "metadata": {},
   "source": [
    "* In this script, the Atom class includes the properties of symbol, atomic_number, and neutrons.\n",
    "* Additionally, it has methods for calculating proton_number, mass_number, and modifying the neutrons number for isotopes.\n",
    "* It also implements the comparison methods for checking equality and comparing atoms based on their mass number.\n",
    "* The final try-except block is used to handle exceptions that are raised when comparing atoms of different elements."
   ]
  },
  {
   "cell_type": "code",
   "execution_count": null,
   "metadata": {},
   "outputs": [],
   "source": [
    "class Atom:\n",
    "    '''A representation of any atom in the periodic table'''\n",
    "\n",
    "    # The constructor method\n",
    "    def __init__(self, symbol, atomic_number, neutrons):\n",
    "\n",
    "        # Initialize instance variables\n",
    "        self.symbol = symbol\n",
    "        self.atomic_number = atomic_number\n",
    "        self.neutrons = neutrons\n",
    "\n",
    "    # Method to return the number of protons\n",
    "    def proton_number(self):\n",
    "        return self.atomic_number\n",
    "    \n",
    "    # Method to calculate the mass number\n",
    "    def mass_number(self):\n",
    "        return self.neutrons + self.atomic_number\n",
    "    \n",
    "    # Method to change the number of neutrons for creating an isotope\n",
    "    def isotope(self, value):\n",
    "        self.neutrons = value\n",
    "\n",
    "    # Magicak method to compare equality between two atoms\n",
    "    def __eq__(self, other):\n",
    "        # Check if the atoms are of the same type\n",
    "        if self.symbol != other.symbol:\n",
    "            raise Exception(\"Different element types!\")\n",
    "        # If same type, then, compare mass numbers\n",
    "        else:\n",
    "            return self.mass_number() == other.mass_number()\n",
    "\n",
    "    # Magical method to compare if one atom is less than another\n",
    "    def __lt__(self, other):\n",
    "        '''__lt__ returns ?'''\n",
    "        if not self.symbol == other.symbol:\n",
    "            raise Exception(\"Cannot compare two different atoms!\")\n",
    "        elif self.atomic_number != other.atomic_number:\n",
    "            raise Exception(\"Can only compare isotopes of the same element.\")\n",
    "        \n",
    "        else:\n",
    "            return self.mass_number() < other.mass_number()\n",
    "\n",
    "    # Magical method to compare if one atom is less or equal to the another\n",
    "    def __le__(self, other):\n",
    "        ''' __le__ returns the result of __lt__ or __eq__,\n",
    "        which means \"less than or equal to\".'''\n",
    "        return self.__lt__(other) or self.__eq__(other)\n",
    "\n",
    "    # Magical method to compare if one atom is greater than another\n",
    "    def __gt__(self, other):\n",
    "        \n",
    "        return not (self.__lt__(other) or self.__eq__(other))\n",
    "\n",
    "    # Magical method to compare if one atom is greater or equal to the another\n",
    "    def __ge__(self, other):\n",
    "        ''' __ge__ returns the negation of __lt__,\n",
    "         which means \"not less than\"'''\n",
    "        return not self.__lt__(other)\n",
    "    "
   ]
  },
  {
   "attachments": {},
   "cell_type": "markdown",
   "metadata": {},
   "source": [
    "## Testing the implementation"
   ]
  },
  {
   "cell_type": "code",
   "execution_count": null,
   "metadata": {},
   "outputs": [],
   "source": [
    "# Create some atom instance.\n",
    "protium = Atom('H', 1, 1)\n",
    "deuterium = Atom('H', 1, 2)\n",
    "oxygen = Atom('O', 8, 8)\n",
    "tritium = Atom('H', 1, 2)\n",
    "tritium.isotope(3)\n",
    "\n",
    "# Check (assert) them.\n",
    "assert tritium.neutrons == 3\n",
    "assert tritium.mass_number() == 4\n",
    "assert protium < deuterium\n",
    "assert deuterium <= tritium\n",
    "assert tritium >= protium\n"
   ]
  },
  {
   "cell_type": "code",
   "execution_count": null,
   "metadata": {},
   "outputs": [],
   "source": [
    "try:\n",
    "    print(oxygen > tritium)  # <-- this should raise an Exception\n",
    "except Exception as e:\n",
    "    print(e)"
   ]
  },
  {
   "cell_type": "code",
   "execution_count": null,
   "metadata": {},
   "outputs": [],
   "source": [
    "try:\n",
    "    print(protium < deuterium)\n",
    "except Exception as e:\n",
    "    print(e)"
   ]
  },
  {
   "cell_type": "code",
   "execution_count": null,
   "metadata": {},
   "outputs": [],
   "source": [
    "protium < deuterium"
   ]
  }
 ],
 "metadata": {
  "kernelspec": {
   "display_name": "Python 3",
   "language": "python",
   "name": "python3"
  },
  "language_info": {
   "codemirror_mode": {
    "name": "ipython",
    "version": 3
   },
   "file_extension": ".py",
   "mimetype": "text/x-python",
   "name": "python",
   "nbconvert_exporter": "python",
   "pygments_lexer": "ipython3",
   "version": "3.11.0"
  },
  "orig_nbformat": 4
 },
 "nbformat": 4,
 "nbformat_minor": 2
}
