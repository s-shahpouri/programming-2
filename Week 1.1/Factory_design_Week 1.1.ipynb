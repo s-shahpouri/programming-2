{
 "cells": [
  {
   "attachments": {},
   "cell_type": "markdown",
   "metadata": {},
   "source": [
    "# Exercise 1"
   ]
  },
  {
   "attachments": {},
   "cell_type": "markdown",
   "metadata": {},
   "source": [
    "### What does a factory signify?\n",
    "A factory is a design pattern that outlines an interface for the creation of objects in a superclass, granting subclasses the flexibility to modify the kind of objects that are to be created.<br>Within the scope of this scenario, a factory known as 'HsmrParserFactory' is instantiated, the function of which is to yield an instance of the parser. It takes as an argument the type of parser (either HSMR_REPORT_PDF or HSMR_REPORT_TEXT from parserTypes.py), and returns an instance of the relevant parser. The factory aids in abstracting the creation process of objects and enables the program to dynamically decide the type of Parser required based on the specific context's needs.\n",
    "\n",
    "### Is the factory method implementation compliant with the Interface Segregation Principle?\n",
    "The Interface Segregation Principle (ISP), which forms a part of the five SOLID principles for object-oriented programming and design, specifies that clients should not be compelled to depend on interfaces they do not utilize. Hence, extensive interfaces should be subdivided into smaller ones to ensure clients only need to know about the methods pertinent to them.\n",
    "\n",
    "Focusing on how clients interact with necessary services, the ISP finds relevance in the context of this scenario because clients invoke the method to create a parser without dealing with any other methods provided by the Factory class. Hence, the application of the Factory Method in this context conforms to the Interface Segregation Principle."
   ]
  },
  {
   "attachments": {},
   "cell_type": "markdown",
   "metadata": {},
   "source": [
    "### Does the implementation of the factory method follow the Interface Segregation Principle?\n",
    "The Interface Segregation Principle (ISP) is one of the five principles of SOLID in object-oriented programming and design. It states that no client should be forced to depend on interfaces they do not use. This means that large interfaces should be split into smaller ones, so that clients will only have to know about the methods that are of interest to them.\n",
    "\n",
    "The ISP is mainly about clients and how they interact with the services they need. In this case because the clients are only invoking the method to create a parser, and they don't have to deal with any other methods that the Factory class provide, then this use of the Factory Method would conform to the Interface Segregation Principle."
   ]
  },
  {
   "attachments": {},
   "cell_type": "markdown",
   "metadata": {},
   "source": [
    "# Exercise 2"
   ]
  },
  {
   "attachments": {},
   "cell_type": "markdown",
   "metadata": {},
   "source": [
    "### Do the Python files starting with Ccs adhere to the single-responsibility principle: \"Every class should have only one responsibility”?\n",
    "\n",
    "The Single Responsibility Principle (SRP) postulates that every class should be assigned only a single responsibility or task.\n",
    "\n",
    "Evaluating each of the Python classes provided:\n",
    "\n",
    "**CcsClassification:**\n",
    "\n",
    "The role of this class is to manage the CCS classification data from a file. Its tasks involve reading data from a file, processing the data, and providing data access. One could argue that these are multiple responsibilities, but they are interconnected enough to be seen as aligned with the SRP.\n",
    "\n",
    "**CcsHospitalDataExtracter:**\n",
    "\n",
    "This class is responsible for retrieving and reading HSMR reports, processing data, and displaying the results. This class is in clear violation of the SRP as it oversees fetching, reading, processing, and visualization tasks.\n",
    "\n",
    "**CcsHospitalInfo:** \n",
    "\n",
    "The responsibility of this class is to manage hospital-related data, manipulate it, and save the data to a file. Similar to CcsClassification, it might be argued that this class handles multiple responsibilities. However, all its methods are related to handling hospital information, suggesting a single responsibility."
   ]
  },
  {
   "attachments": {},
   "cell_type": "markdown",
   "metadata": {},
   "source": [
    "# Exercise 3"
   ]
  },
  {
   "attachments": {},
   "cell_type": "markdown",
   "metadata": {},
   "source": [
    "### In the code, several base classes are used. Can you find examples of the Liskov substitution principle: \"Functions that use pointers or references to base classes must be able to use objects of derived classes without knowing it.\" Explain your answer.\n",
    "\n",
    "The Liskov Substitution Principle, one of the SOLID principles of Object-Oriented Design, essentially states that a program using a Base class should be able to replace the reference to the Base class with a Derived class without changing the program's functionality.\n",
    "\n",
    "Looking at the code, TestCase is a base class offered by Python's unittest framework, and TestFileDownloader, TestGet_clean_number_list, and TestGoogleCustomSearchApi are classes derived from it. They can be considered examples of Liskov substitution as they replace the TestCase class and its functionality with their own functionality, designed to test specific methods in this application.\n",
    "\n",
    "However, this might not be a strict application of Liskov substitution because LSP is primarily about preserving base class semantics in a subclass. In this case, the semantics of a test case class are not preserved in these derived classes. Instead, each derived class defines a new behavior specific to the method it's testing."
   ]
  },
  {
   "attachments": {},
   "cell_type": "markdown",
   "metadata": {},
   "source": [
    "# Exercise 4"
   ]
  },
  {
   "attachments": {},
   "cell_type": "markdown",
   "metadata": {},
   "source": [
    "### Search for the Settings class. What makes this class a singleton object and is a singleton object SOLID?\n",
    "\n",
    "The `LocalSettings` class in this script is a Singleton class. This means that only one instance of this class will be created, and all subsequent attempts to create a new instance will instead return the first instance.\n",
    "\n",
    "Here are the characteristics that make `LocalSettings` a Singleton:\n",
    "\n",
    "1. The class attribute `instance` is used to store the one and only instance of the class. It is initially set to `None`.\n",
    "2. The `__new__` method is overridden. This method is responsible for creating and returning a new object. In this case, it checks if an instance already exists. If not, it creates a new instance of the internal `__LocalSettings` class and assigns it to `LocalSettings.instance`. If an instance does exist, it simply returns the existing instance.\n",
    "3. The `__init__` method also checks if an instance already exists, and if not, it creates one. However, since `__new__` is always called before `__init__`, this check is somewhat redundant in this case. \n",
    "\n",
    "About the SOLID principles: \n",
    "\n",
    "The Singleton Pattern could potentially violate the Single Responsibility Principle (SRP) if it's used for anything beyond ensuring there's only a single instance, because then it's doing more than one thing.\n",
    "\n",
    "It also could violate the Dependency Inversion Principle (DIP) as it could make high-level modules dependent on the Singleton class itself, instead of an abstraction.\n",
    " \n",
    "\n",
    "In conclusion, as long as careful considerations are taken into account, Singleton classes can be used in a way that's in line with SOLID principles. "
   ]
  },
  {
   "attachments": {},
   "cell_type": "markdown",
   "metadata": {},
   "source": [
    "### The hospital types codes are stored in a python module hospital_types.py. Is this a logical solution?\n",
    "\n",
    "Keeping constant values, such as hospital type codes, in a separate module is a common and appropriate practice. This method has various benefits:\n",
    "\n",
    "Primarily, all constant values are consolidated in one place, which simplifies their discovery and modification.\n",
    "Secondly, literal values with unspecified meanings, such as \"0602\", when used directly in code, lack clarity. By using a descriptive constant name like ACADEMY_HOSPITAL, code readability and maintainability are enhanced.\n",
    "Finally, these constant values can be imported and used across multiple modules without the need for redefinition.\n",
    "\n",
    "In terms of SOLID principles, this approach also aligns with the Open-Closed Principle, which posits that software entities should be open for extension but closed for modification. By storing these values in a module, we can easily add more constants as the program expands (extension), without needing to modify the existing constants or the code that uses them (closed for modification)."
   ]
  },
  {
   "attachments": {},
   "cell_type": "markdown",
   "metadata": {},
   "source": [
    "### Is there an alternative solution for these kinds of local settings and parameters? Please elaborate.\n",
    "\n",
    "Yes, there are variousalternatives to manage local settings and parameters in an application. Here are a few common methods:\n",
    "\n",
    "One alternative is using configuration files (like JSON, or YAML files) instead of storing settings directly in the code or modules. The application can read these files at runtime to get the required configuration values. This method allows for easy modification of settings without changing the code itself and provides flexibility in managing different settings for different environments.\n",
    "\n",
    "Another method is through Command-Line Arguments. Rather than storing settings in a separate file or module, we can pass them as command-line arguments when the application is run. The application can parse these arguments and use them to configure its behavior. This approach provides flexibility and enables easy customization of settings during application startup.\n",
    "\n",
    "\n",
    "\n",
    "\n"
   ]
  }
 ],
 "metadata": {
  "language_info": {
   "name": "python"
  },
  "orig_nbformat": 4
 },
 "nbformat": 4,
 "nbformat_minor": 2
}
